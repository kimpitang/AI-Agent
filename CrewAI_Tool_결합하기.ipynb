{
  "nbformat": 4,
  "nbformat_minor": 0,
  "metadata": {
    "colab": {
      "provenance": [],
      "authorship_tag": "ABX9TyOu8kfK2mWM7jkv0PojpCwi",
      "include_colab_link": true
    },
    "kernelspec": {
      "name": "python3",
      "display_name": "Python 3"
    },
    "language_info": {
      "name": "python"
    }
  },
  "cells": [
    {
      "cell_type": "markdown",
      "metadata": {
        "id": "view-in-github",
        "colab_type": "text"
      },
      "source": [
        "<a href=\"https://colab.research.google.com/github/kimpitang/AI-Agent/blob/main/CrewAI_Tool_%EA%B2%B0%ED%95%A9%ED%95%98%EA%B8%B0.ipynb\" target=\"_parent\"><img src=\"https://colab.research.google.com/assets/colab-badge.svg\" alt=\"Open In Colab\"/></a>"
      ]
    },
    {
      "cell_type": "code",
      "source": [
        "!pip install -q crewai crewai-tools"
      ],
      "metadata": {
        "colab": {
          "base_uri": "https://localhost:8080/"
        },
        "id": "XojXPqgULiHa",
        "outputId": "2233917d-f1d2-4fc9-f3eb-848d25b25118"
      },
      "execution_count": 3,
      "outputs": [
        {
          "output_type": "stream",
          "name": "stdout",
          "text": [
            "\u001b[?25l     \u001b[90m━━━━━━━━━━━━━━━━━━━━━━━━━━━━━━━━━━━━━━━━\u001b[0m \u001b[32m0.0/42.5 kB\u001b[0m \u001b[31m?\u001b[0m eta \u001b[36m-:--:--\u001b[0m\r\u001b[2K     \u001b[90m━━━━━━━━━━━━━━━━━━━━━━━━━━━━━━━━━━━━━━━━\u001b[0m \u001b[32m42.5/42.5 kB\u001b[0m \u001b[31m2.9 MB/s\u001b[0m eta \u001b[36m0:00:00\u001b[0m\n",
            "\u001b[?25h  Preparing metadata (setup.py) ... \u001b[?25l\u001b[?25hdone\n",
            "  Preparing metadata (setup.py) ... \u001b[?25l\u001b[?25hdone\n",
            "\u001b[2K     \u001b[90m━━━━━━━━━━━━━━━━━━━━━━━━━━━━━━━━━━━━━━━━\u001b[0m \u001b[32m67.3/67.3 kB\u001b[0m \u001b[31m3.6 MB/s\u001b[0m eta \u001b[36m0:00:00\u001b[0m\n",
            "\u001b[?25h  Installing build dependencies ... \u001b[?25l\u001b[?25hdone\n",
            "  Getting requirements to build wheel ... \u001b[?25l\u001b[?25hdone\n",
            "  Preparing metadata (pyproject.toml) ... \u001b[?25l\u001b[?25hdone\n",
            "\u001b[2K     \u001b[90m━━━━━━━━━━━━━━━━━━━━━━━━━━━━━━━━━━━━━━━━\u001b[0m \u001b[32m48.2/48.2 kB\u001b[0m \u001b[31m3.0 MB/s\u001b[0m eta \u001b[36m0:00:00\u001b[0m\n",
            "\u001b[2K   \u001b[90m━━━━━━━━━━━━━━━━━━━━━━━━━━━━━━━━━━━━━━━━\u001b[0m \u001b[32m211.9/211.9 kB\u001b[0m \u001b[31m8.4 MB/s\u001b[0m eta \u001b[36m0:00:00\u001b[0m\n",
            "\u001b[2K   \u001b[90m━━━━━━━━━━━━━━━━━━━━━━━━━━━━━━━━━━━━━━━━\u001b[0m \u001b[32m514.9/514.9 kB\u001b[0m \u001b[31m20.8 MB/s\u001b[0m eta \u001b[36m0:00:00\u001b[0m\n",
            "\u001b[2K   \u001b[90m━━━━━━━━━━━━━━━━━━━━━━━━━━━━━━━━━━━━━━━━\u001b[0m \u001b[32m131.8/131.8 kB\u001b[0m \u001b[31m9.3 MB/s\u001b[0m eta \u001b[36m0:00:00\u001b[0m\n",
            "\u001b[2K   \u001b[90m━━━━━━━━━━━━━━━━━━━━━━━━━━━━━━━━━━━━━━━━\u001b[0m \u001b[32m2.4/2.4 MB\u001b[0m \u001b[31m57.3 MB/s\u001b[0m eta \u001b[36m0:00:00\u001b[0m\n",
            "\u001b[2K   \u001b[90m━━━━━━━━━━━━━━━━━━━━━━━━━━━━━━━━━━━━━━━━\u001b[0m \u001b[32m147.8/147.8 kB\u001b[0m \u001b[31m10.7 MB/s\u001b[0m eta \u001b[36m0:00:00\u001b[0m\n",
            "\u001b[2K   \u001b[90m━━━━━━━━━━━━━━━━━━━━━━━━━━━━━━━━━━━━━━━━\u001b[0m \u001b[32m211.4/211.4 kB\u001b[0m \u001b[31m13.6 MB/s\u001b[0m eta \u001b[36m0:00:00\u001b[0m\n",
            "\u001b[2K   \u001b[90m━━━━━━━━━━━━━━━━━━━━━━━━━━━━━━━━━━━━━━━━\u001b[0m \u001b[32m628.3/628.3 kB\u001b[0m \u001b[31m33.9 MB/s\u001b[0m eta \u001b[36m0:00:00\u001b[0m\n",
            "\u001b[2K   \u001b[90m━━━━━━━━━━━━━━━━━━━━━━━━━━━━━━━━━━━━━━━━\u001b[0m \u001b[32m71.4/71.4 kB\u001b[0m \u001b[31m5.3 MB/s\u001b[0m eta \u001b[36m0:00:00\u001b[0m\n",
            "\u001b[2K   \u001b[90m━━━━━━━━━━━━━━━━━━━━━━━━━━━━━━━━━━━━━━━━\u001b[0m \u001b[32m29.9/29.9 MB\u001b[0m \u001b[31m50.2 MB/s\u001b[0m eta \u001b[36m0:00:00\u001b[0m\n",
            "\u001b[2K   \u001b[90m━━━━━━━━━━━━━━━━━━━━━━━━━━━━━━━━━━━━━━━━\u001b[0m \u001b[32m33.5/33.5 MB\u001b[0m \u001b[31m20.6 MB/s\u001b[0m eta \u001b[36m0:00:00\u001b[0m\n",
            "\u001b[2K   \u001b[90m━━━━━━━━━━━━━━━━━━━━━━━━━━━━━━━━━━━━━━━━\u001b[0m \u001b[32m6.6/6.6 MB\u001b[0m \u001b[31m81.8 MB/s\u001b[0m eta \u001b[36m0:00:00\u001b[0m\n",
            "\u001b[2K   \u001b[90m━━━━━━━━━━━━━━━━━━━━━━━━━━━━━━━━━━━━━━━━\u001b[0m \u001b[32m55.8/55.8 kB\u001b[0m \u001b[31m3.3 MB/s\u001b[0m eta \u001b[36m0:00:00\u001b[0m\n",
            "\u001b[2K   \u001b[90m━━━━━━━━━━━━━━━━━━━━━━━━━━━━━━━━━━━━━━━━\u001b[0m \u001b[32m59.5/59.5 kB\u001b[0m \u001b[31m3.8 MB/s\u001b[0m eta \u001b[36m0:00:00\u001b[0m\n",
            "\u001b[2K   \u001b[90m━━━━━━━━━━━━━━━━━━━━━━━━━━━━━━━━━━━━━━━━\u001b[0m \u001b[32m5.6/5.6 MB\u001b[0m \u001b[31m74.3 MB/s\u001b[0m eta \u001b[36m0:00:00\u001b[0m\n",
            "\u001b[2K   \u001b[90m━━━━━━━━━━━━━━━━━━━━━━━━━━━━━━━━━━━━━━━━\u001b[0m \u001b[32m57.6/57.6 kB\u001b[0m \u001b[31m3.7 MB/s\u001b[0m eta \u001b[36m0:00:00\u001b[0m\n",
            "\u001b[2K   \u001b[90m━━━━━━━━━━━━━━━━━━━━━━━━━━━━━━━━━━━━━━━━\u001b[0m \u001b[32m756.0/756.0 kB\u001b[0m \u001b[31m36.3 MB/s\u001b[0m eta \u001b[36m0:00:00\u001b[0m\n",
            "\u001b[2K   \u001b[90m━━━━━━━━━━━━━━━━━━━━━━━━━━━━━━━━━━━━━━━━\u001b[0m \u001b[32m9.7/9.7 MB\u001b[0m \u001b[31m86.2 MB/s\u001b[0m eta \u001b[36m0:00:00\u001b[0m\n",
            "\u001b[2K   \u001b[90m━━━━━━━━━━━━━━━━━━━━━━━━━━━━━━━━━━━━━━━━\u001b[0m \u001b[32m15.5/15.5 MB\u001b[0m \u001b[31m72.7 MB/s\u001b[0m eta \u001b[36m0:00:00\u001b[0m\n",
            "\u001b[2K   \u001b[90m━━━━━━━━━━━━━━━━━━━━━━━━━━━━━━━━━━━━━━━━\u001b[0m \u001b[32m325.4/325.4 kB\u001b[0m \u001b[31m19.2 MB/s\u001b[0m eta \u001b[36m0:00:00\u001b[0m\n",
            "\u001b[2K   \u001b[90m━━━━━━━━━━━━━━━━━━━━━━━━━━━━━━━━━━━━━━━━\u001b[0m \u001b[32m43.5/43.5 kB\u001b[0m \u001b[31m2.6 MB/s\u001b[0m eta \u001b[36m0:00:00\u001b[0m\n",
            "\u001b[2K   \u001b[90m━━━━━━━━━━━━━━━━━━━━━━━━━━━━━━━━━━━━━━━━\u001b[0m \u001b[32m233.5/233.5 kB\u001b[0m \u001b[31m14.6 MB/s\u001b[0m eta \u001b[36m0:00:00\u001b[0m\n",
            "\u001b[2K   \u001b[90m━━━━━━━━━━━━━━━━━━━━━━━━━━━━━━━━━━━━━━━━\u001b[0m \u001b[32m223.8/223.8 kB\u001b[0m \u001b[31m13.0 MB/s\u001b[0m eta \u001b[36m0:00:00\u001b[0m\n",
            "\u001b[2K   \u001b[90m━━━━━━━━━━━━━━━━━━━━━━━━━━━━━━━━━━━━━━━━\u001b[0m \u001b[32m278.6/278.6 kB\u001b[0m \u001b[31m17.3 MB/s\u001b[0m eta \u001b[36m0:00:00\u001b[0m\n",
            "\u001b[2K   \u001b[90m━━━━━━━━━━━━━━━━━━━━━━━━━━━━━━━━━━━━━━━━\u001b[0m \u001b[32m250.2/250.2 kB\u001b[0m \u001b[31m15.6 MB/s\u001b[0m eta \u001b[36m0:00:00\u001b[0m\n",
            "\u001b[2K   \u001b[90m━━━━━━━━━━━━━━━━━━━━━━━━━━━━━━━━━━━━━━━━\u001b[0m \u001b[32m94.8/94.8 kB\u001b[0m \u001b[31m5.4 MB/s\u001b[0m eta \u001b[36m0:00:00\u001b[0m\n",
            "\u001b[2K   \u001b[90m━━━━━━━━━━━━━━━━━━━━━━━━━━━━━━━━━━━━━━━━\u001b[0m \u001b[32m131.6/131.6 kB\u001b[0m \u001b[31m9.0 MB/s\u001b[0m eta \u001b[36m0:00:00\u001b[0m\n",
            "\u001b[2K   \u001b[90m━━━━━━━━━━━━━━━━━━━━━━━━━━━━━━━━━━━━━━━━\u001b[0m \u001b[32m2.5/2.5 MB\u001b[0m \u001b[31m66.9 MB/s\u001b[0m eta \u001b[36m0:00:00\u001b[0m\n",
            "\u001b[2K   \u001b[90m━━━━━━━━━━━━━━━━━━━━━━━━━━━━━━━━━━━━━━━━\u001b[0m \u001b[32m76.4/76.4 kB\u001b[0m \u001b[31m4.7 MB/s\u001b[0m eta \u001b[36m0:00:00\u001b[0m\n",
            "\u001b[2K   \u001b[90m━━━━━━━━━━━━━━━━━━━━━━━━━━━━━━━━━━━━━━━━\u001b[0m \u001b[32m1.9/1.9 MB\u001b[0m \u001b[31m64.2 MB/s\u001b[0m eta \u001b[36m0:00:00\u001b[0m\n",
            "\u001b[2K   \u001b[90m━━━━━━━━━━━━━━━━━━━━━━━━━━━━━━━━━━━━━━━━\u001b[0m \u001b[32m44.3/44.3 kB\u001b[0m \u001b[31m3.0 MB/s\u001b[0m eta \u001b[36m0:00:00\u001b[0m\n",
            "\u001b[2K   \u001b[90m━━━━━━━━━━━━━━━━━━━━━━━━━━━━━━━━━━━━━━━━\u001b[0m \u001b[32m2.5/2.5 MB\u001b[0m \u001b[31m61.8 MB/s\u001b[0m eta \u001b[36m0:00:00\u001b[0m\n",
            "\u001b[2K   \u001b[90m━━━━━━━━━━━━━━━━━━━━━━━━━━━━━━━━━━━━━━━━\u001b[0m \u001b[32m50.9/50.9 kB\u001b[0m \u001b[31m3.3 MB/s\u001b[0m eta \u001b[36m0:00:00\u001b[0m\n",
            "\u001b[2K   \u001b[90m━━━━━━━━━━━━━━━━━━━━━━━━━━━━━━━━━━━━━━━━\u001b[0m \u001b[32m311.8/311.8 kB\u001b[0m \u001b[31m18.6 MB/s\u001b[0m eta \u001b[36m0:00:00\u001b[0m\n",
            "\u001b[2K   \u001b[90m━━━━━━━━━━━━━━━━━━━━━━━━━━━━━━━━━━━━━━━━\u001b[0m \u001b[32m85.6/85.6 kB\u001b[0m \u001b[31m6.2 MB/s\u001b[0m eta \u001b[36m0:00:00\u001b[0m\n",
            "\u001b[2K   \u001b[90m━━━━━━━━━━━━━━━━━━━━━━━━━━━━━━━━━━━━━━━━\u001b[0m \u001b[32m93.2/93.2 kB\u001b[0m \u001b[31m6.3 MB/s\u001b[0m eta \u001b[36m0:00:00\u001b[0m\n",
            "\u001b[2K   \u001b[90m━━━━━━━━━━━━━━━━━━━━━━━━━━━━━━━━━━━━━━━━\u001b[0m \u001b[32m13.3/13.3 MB\u001b[0m \u001b[31m22.8 MB/s\u001b[0m eta \u001b[36m0:00:00\u001b[0m\n",
            "\u001b[2K   \u001b[90m━━━━━━━━━━━━━━━━━━━━━━━━━━━━━━━━━━━━━━━━\u001b[0m \u001b[32m54.9/54.9 kB\u001b[0m \u001b[31m3.5 MB/s\u001b[0m eta \u001b[36m0:00:00\u001b[0m\n",
            "\u001b[2K   \u001b[90m━━━━━━━━━━━━━━━━━━━━━━━━━━━━━━━━━━━━━━━━\u001b[0m \u001b[32m298.0/298.0 kB\u001b[0m \u001b[31m17.5 MB/s\u001b[0m eta \u001b[36m0:00:00\u001b[0m\n",
            "\u001b[2K   \u001b[90m━━━━━━━━━━━━━━━━━━━━━━━━━━━━━━━━━━━━━━━━\u001b[0m \u001b[32m2.9/2.9 MB\u001b[0m \u001b[31m74.3 MB/s\u001b[0m eta \u001b[36m0:00:00\u001b[0m\n",
            "\u001b[2K   \u001b[90m━━━━━━━━━━━━━━━━━━━━━━━━━━━━━━━━━━━━━━━━\u001b[0m \u001b[32m71.1/71.1 kB\u001b[0m \u001b[31m5.0 MB/s\u001b[0m eta \u001b[36m0:00:00\u001b[0m\n",
            "\u001b[2K   \u001b[90m━━━━━━━━━━━━━━━━━━━━━━━━━━━━━━━━━━━━━━━━\u001b[0m \u001b[32m1.1/1.1 MB\u001b[0m \u001b[31m46.1 MB/s\u001b[0m eta \u001b[36m0:00:00\u001b[0m\n",
            "\u001b[2K   \u001b[90m━━━━━━━━━━━━━━━━━━━━━━━━━━━━━━━━━━━━━━━━\u001b[0m \u001b[32m3.0/3.0 MB\u001b[0m \u001b[31m61.0 MB/s\u001b[0m eta \u001b[36m0:00:00\u001b[0m\n",
            "\u001b[2K   \u001b[90m━━━━━━━━━━━━━━━━━━━━━━━━━━━━━━━━━━━━━━━━\u001b[0m \u001b[32m486.3/486.3 kB\u001b[0m \u001b[31m27.0 MB/s\u001b[0m eta \u001b[36m0:00:00\u001b[0m\n",
            "\u001b[2K   \u001b[90m━━━━━━━━━━━━━━━━━━━━━━━━━━━━━━━━━━━━━━━━\u001b[0m \u001b[32m62.3/62.3 kB\u001b[0m \u001b[31m4.1 MB/s\u001b[0m eta \u001b[36m0:00:00\u001b[0m\n",
            "\u001b[2K   \u001b[90m━━━━━━━━━━━━━━━━━━━━━━━━━━━━━━━━━━━━━━━━\u001b[0m \u001b[32m3.8/3.8 MB\u001b[0m \u001b[31m76.4 MB/s\u001b[0m eta \u001b[36m0:00:00\u001b[0m\n",
            "\u001b[2K   \u001b[90m━━━━━━━━━━━━━━━━━━━━━━━━━━━━━━━━━━━━━━━━\u001b[0m \u001b[32m114.5/114.5 kB\u001b[0m \u001b[31m7.1 MB/s\u001b[0m eta \u001b[36m0:00:00\u001b[0m\n",
            "\u001b[2K   \u001b[90m━━━━━━━━━━━━━━━━━━━━━━━━━━━━━━━━━━━━━━━━\u001b[0m \u001b[32m3.1/3.1 MB\u001b[0m \u001b[31m72.5 MB/s\u001b[0m eta \u001b[36m0:00:00\u001b[0m\n",
            "\u001b[2K   \u001b[90m━━━━━━━━━━━━━━━━━━━━━━━━━━━━━━━━━━━━━━━━\u001b[0m \u001b[32m442.1/442.1 kB\u001b[0m \u001b[31m23.9 MB/s\u001b[0m eta \u001b[36m0:00:00\u001b[0m\n",
            "\u001b[2K   \u001b[90m━━━━━━━━━━━━━━━━━━━━━━━━━━━━━━━━━━━━━━━━\u001b[0m \u001b[32m1.6/1.6 MB\u001b[0m \u001b[31m56.8 MB/s\u001b[0m eta \u001b[36m0:00:00\u001b[0m\n",
            "\u001b[2K   \u001b[90m━━━━━━━━━━━━━━━━━━━━━━━━━━━━━━━━━━━━━━━━\u001b[0m \u001b[32m209.2/209.2 kB\u001b[0m \u001b[31m11.8 MB/s\u001b[0m eta \u001b[36m0:00:00\u001b[0m\n",
            "\u001b[2K   \u001b[90m━━━━━━━━━━━━━━━━━━━━━━━━━━━━━━━━━━━━━━━━\u001b[0m \u001b[32m319.7/319.7 kB\u001b[0m \u001b[31m19.7 MB/s\u001b[0m eta \u001b[36m0:00:00\u001b[0m\n",
            "\u001b[2K   \u001b[90m━━━━━━━━━━━━━━━━━━━━━━━━━━━━━━━━━━━━━━━━\u001b[0m \u001b[32m267.2/267.2 kB\u001b[0m \u001b[31m15.3 MB/s\u001b[0m eta \u001b[36m0:00:00\u001b[0m\n",
            "\u001b[2K   \u001b[90m━━━━━━━━━━━━━━━━━━━━━━━━━━━━━━━━━━━━━━━━\u001b[0m \u001b[32m73.2/73.2 kB\u001b[0m \u001b[31m5.0 MB/s\u001b[0m eta \u001b[36m0:00:00\u001b[0m\n",
            "\u001b[2K   \u001b[90m━━━━━━━━━━━━━━━━━━━━━━━━━━━━━━━━━━━━━━━━\u001b[0m \u001b[32m443.8/443.8 kB\u001b[0m \u001b[31m25.1 MB/s\u001b[0m eta \u001b[36m0:00:00\u001b[0m\n",
            "\u001b[2K   \u001b[90m━━━━━━━━━━━━━━━━━━━━━━━━━━━━━━━━━━━━━━━━\u001b[0m \u001b[32m46.0/46.0 kB\u001b[0m \u001b[31m3.2 MB/s\u001b[0m eta \u001b[36m0:00:00\u001b[0m\n",
            "\u001b[2K   \u001b[90m━━━━━━━━━━━━━━━━━━━━━━━━━━━━━━━━━━━━━━━━\u001b[0m \u001b[32m78.6/78.6 kB\u001b[0m \u001b[31m5.3 MB/s\u001b[0m eta \u001b[36m0:00:00\u001b[0m\n",
            "\u001b[2K   \u001b[90m━━━━━━━━━━━━━━━━━━━━━━━━━━━━━━━━━━━━━━━━\u001b[0m \u001b[32m86.8/86.8 kB\u001b[0m \u001b[31m6.1 MB/s\u001b[0m eta \u001b[36m0:00:00\u001b[0m\n",
            "\u001b[2K   \u001b[90m━━━━━━━━━━━━━━━━━━━━━━━━━━━━━━━━━━━━━━━━\u001b[0m \u001b[32m49.5/49.5 kB\u001b[0m \u001b[31m3.1 MB/s\u001b[0m eta \u001b[36m0:00:00\u001b[0m\n",
            "\u001b[2K   \u001b[90m━━━━━━━━━━━━━━━━━━━━━━━━━━━━━━━━━━━━━━━━\u001b[0m \u001b[32m57.5/57.5 kB\u001b[0m \u001b[31m4.2 MB/s\u001b[0m eta \u001b[36m0:00:00\u001b[0m\n",
            "\u001b[?25h  Building wheel for docx2txt (setup.py) ... \u001b[?25l\u001b[?25hdone\n",
            "  Building wheel for spider-client (setup.py) ... \u001b[?25l\u001b[?25hdone\n",
            "  Building wheel for pypika (pyproject.toml) ... \u001b[?25l\u001b[?25hdone\n",
            "\u001b[31mERROR: pip's dependency resolver does not currently take into account all the packages that are installed. This behaviour is the source of the following dependency conflicts.\n",
            "tensorflow 2.17.1 requires protobuf!=4.21.0,!=4.21.1,!=4.21.2,!=4.21.3,!=4.21.4,!=4.21.5,<5.0.0dev,>=3.20.3, but you have protobuf 5.29.3 which is incompatible.\n",
            "tensorflow-metadata 1.13.1 requires protobuf<5,>=3.20.3, but you have protobuf 5.29.3 which is incompatible.\n",
            "transformers 4.47.1 requires tokenizers<0.22,>=0.21, but you have tokenizers 0.20.3 which is incompatible.\u001b[0m\u001b[31m\n",
            "\u001b[0m"
          ]
        }
      ]
    },
    {
      "cell_type": "code",
      "execution_count": 4,
      "metadata": {
        "id": "ItdP76CBI9QV"
      },
      "outputs": [],
      "source": [
        "import os\n",
        "import warnings\n",
        "warnings.filterwarnings('ignore')\n",
        "\n",
        "os.environ[\"SERPER_API_KEY\"] = \"\" // serper dev api key\n",
        "os.environ[\"OPENAI_API_KEY\"] = \"\" // openai api key"
      ]
    },
    {
      "cell_type": "code",
      "source": [
        "from crewai import Agent, Task, Crew\n",
        "from crewai.process import Process\n",
        "# Importing crewAI tools\n",
        "from crewai_tools import (\n",
        "    SerperDevTool,\n",
        "    WebsiteSearchTool,\n",
        "    ScrapeWebsiteTool\n",
        ")"
      ],
      "metadata": {
        "id": "xE6IMvw3KyaC"
      },
      "execution_count": 5,
      "outputs": []
    },
    {
      "cell_type": "code",
      "source": [
        "from langchain_openai import ChatOpenAI\n",
        "\n",
        "llm = ChatOpenAI(model = \"gpt-4o-mini\")\n",
        "\n",
        "search_tool = SerperDevTool()\n",
        "web_rag_tool = WebsiteSearchTool()\n",
        "scrape_tool = ScrapeWebsiteTool()\n",
        "\n",
        "researcher = Agent(\n",
        "    role='테크 트렌드 연구원',\n",
        "    goal='인공지능 분야의 최신 기술 트렌드를 한국어로 제공합니다. 지금은 2025년 1월입니다.',\n",
        "    backstory='기술 트렌드에 예리한 안목을 지닌 전문 분석가이자 AI 개발자입니다.',\n",
        "    tools=[search_tool, web_rag_tool],\n",
        "    verbose=True,\n",
        "    max_items=5,\n",
        "    llm = llm\n",
        ")\n",
        "\n",
        "writer = Agent(\n",
        "    role='뉴스레터 작성자',\n",
        "    goal=\"최신 AI 기술 트렌드에 대한 매력적인 테크 뉴스레터를 한국어로 작성하세요. 지금은 2025년 1월입니다.\",\n",
        "    backstory='기술에 대한 열정을 가진 숙련된 작가입니다.',\n",
        "    verbose=True,\n",
        "    allow_delegation=False,\n",
        "    llm = llm\n",
        ")\n",
        "\n",
        "# Define tasks\n",
        "research = Task(\n",
        "    description='AI 업계의 최신 기술 동향을 조사하고 요약을 제공하세요.',\n",
        "    expected_output='AI 업계에서 가장 주목받는 3대 기술 개발 통향과 그 중요성에 대한 신선한 관점을 요약한 글',\n",
        "    agent=researcher\n",
        ")\n",
        "\n",
        "write = Task(\n",
        "    description=\"\"\"테크 트렌드 연구원의 요약을 바탕으로 AI 산업에 대한 매력적인 테크 뉴스레터를 작성하세요.\n",
        "    테크 뉴스레터이므로 전문적인 용어를 사요해도 괜찮습니다.\"\"\",\n",
        "    expected_output='최신 기술 관련 소식을 재밌는 말투로 소개하는 4문단짜리 마크다운 형식 뉴스레터',\n",
        "    agent=writer,\n",
        "    output_file=r'C:\\Users\\user\\new_post.md'\n",
        ")\n",
        "\n",
        "# Assemble a crew with planning enabled\n",
        "crew = Crew(\n",
        "    agents=[researcher, writer],\n",
        "    tasks=[research, write],\n",
        "    verbose=True,\n",
        "    process=Process.sequential\n",
        ")\n",
        "\n",
        "# Execute tasks\n",
        "result = crew.kickoff()"
      ],
      "metadata": {
        "colab": {
          "base_uri": "https://localhost:8080/"
        },
        "id": "-zPZ0YmtL-xD",
        "outputId": "8922ce28-83f1-42a4-c55f-d8054451e189"
      },
      "execution_count": 12,
      "outputs": [
        {
          "output_type": "stream",
          "name": "stderr",
          "text": [
            "WARNING:opentelemetry.trace:Overriding of current TracerProvider is not allowed\n"
          ]
        },
        {
          "output_type": "stream",
          "name": "stdout",
          "text": [
            "\u001b[1m\u001b[95m# Agent:\u001b[00m \u001b[1m\u001b[92m테크 트렌드 연구원\u001b[00m\n",
            "\u001b[95m## Task:\u001b[00m \u001b[92mAI 업계의 최신 기술 동향을 조사하고 요약을 제공하세요.\u001b[00m\n",
            "\n",
            "\n",
            "\u001b[1m\u001b[95m# Agent:\u001b[00m \u001b[1m\u001b[92m테크 트렌드 연구원\u001b[00m\n",
            "\u001b[95m## Using tool:\u001b[00m \u001b[92mSearch the internet\u001b[00m\n",
            "\u001b[95m## Tool Input:\u001b[00m \u001b[92m\n",
            "\"{\\\"search_query\\\": \\\"2025 AI technology trends\\\"}\"\u001b[00m\n",
            "\u001b[95m## Tool Output:\u001b[00m \u001b[92m\n",
            "{'searchParameters': {'q': '2025 AI technology trends', 'type': 'search', 'num': 10, 'engine': 'google'}, 'organic': [{'title': \"What's next for AI in 2025 | MIT Technology Review\", 'link': 'https://www.technologyreview.com/2025/01/08/1109188/whats-next-for-ai-in-2025/', 'snippet': 'You already know that agents and small language models are the next big things. Here are five other hot trends you should watch out for this ...', 'position': 1}, {'title': 'Top Tech Trends of 2025: AI-powered everything - Capgemini', 'link': 'https://www.capgemini.com/insights/research-library/top-tech-trends-2025/', 'snippet': 'What are the Top Tech Trends of 2025? · Generative AI: From copilots to reasoning AI agents · AI & Gen AI in cybersecurity: New defenses, new ...', 'position': 2}, {'title': 'Top 7 Forecasted AI Trends To Watch In 2025 - Forbes', 'link': 'https://www.forbes.com/councils/forbesbusinesscouncil/2025/01/08/top-7-forecasted-ai-trends-to-watch-in-2025/', 'snippet': '1. Hyper-Personalization Redefined · 2. Generative AI As A Creative Ally · 3. Decision Intelligence Will Guide The Way · 4. AI As A Sustainability ...', 'position': 3}, {'title': '20/25 Vision: A Clear Look at the Technology Trends that will Define ...', 'link': 'https://blogs.cisco.com/news/20-25-vision-a-clear-look-at-the-technology-trends-that-will-define-2025', 'snippet': '2025 marks a pivotal moment in our technological journey where AI, cybersecurity, data governance, and sustainability converge to redefine the business ...', 'position': 4}, {'title': 'CES 2025 - What To Expect & Top Tech Trends! - YouTube', 'link': 'https://www.youtube.com/watch?v=xF7j7KcmCyc', 'snippet': 'To get you prepped for CES 2025, Co-Hostess Justine Ezarik & I talk about the top tech trends and what to expect before CES 2025 kicks off!', 'position': 5}, {'title': 'Gartner Top 10 Strategic Technology Trends for 2025', 'link': 'https://www.gartner.com/en/articles/top-technology-trends-2025', 'snippet': 'What are the top technology trends for 2025? · Agentic AI · Post-quantum Cryptography · Spatial Computing · AI Governance Platforms · Ambient ...', 'position': 6}, {'title': 'Accenture Technology Vision 2025: New Age of AI to Bring ...', 'link': 'https://newsroom.accenture.com/news/2025/accenture-technology-vision-2025-new-age-of-ai-to-bring-unprecedented-autonomy-to-business', 'snippet': 'Generalist robots will emerge over the next decade, bringing more AI autonomy into the physical world. It will be possible for introductory ...', 'position': 7}, {'title': \"AI's impact on industries in 2025 | Google Cloud Blog\", 'link': 'https://cloud.google.com/transform/ai-impact-industries-2025', 'snippet': 'Generative AI has gone from a futuristic idea to a key business strategy, changing industries with practical uses while boosting efficiency and customer ...', 'position': 8, 'sitelinks': [{'title': 'Generative Ai Has Gone From...', 'link': 'https://cloud.google.com/transform/ai-impact-industries-2025#:~:text=Generative%20AI%20has%20gone%20from%20a%20futuristic%20idea%20to%20a%20key%20business%20strategy%2C%20changing%20industries%20with%20practical%20uses%20while%20boosting%20efficiency%20and%20customer%20engagement.'}, {'title': 'Retail', 'link': 'https://cloud.google.com/transform/ai-impact-industries-2025#:~:text=Retail,-Though%20abundant%2C%20early%20gen'}, {'title': 'Financial Services', 'link': 'https://cloud.google.com/transform/ai-impact-industries-2025#:~:text=Financial%20services,-As%20a%20historically%20data%2D'}]}, {'title': 'Tech Trends intro: AI is everywhere | Deloitte Insights', 'link': 'https://www2.deloitte.com/us/en/insights/focus/tech-trends/2025/tech-trends-introduction-ai-is-everywhere.html', 'snippet': 'Tech Trends 2025 reveals how much AI is being woven into the fabric of our lives—making everything work smarter, faster, and more ...', 'position': 9}], 'peopleAlsoAsk': [{'question': 'What will AI be like in 2025?', 'snippet': 'While generative AI dominated headlines in 2024, experts believe 2025 belongs to \"agentic AI.\" These systems, capable of autonomously planning and executing tasks based on user-defined objectives, present unprecedented governance challenges.', 'title': 'AI Governance In 2025: Expert Predictions On Ethics, Tech, And Law', 'link': 'https://www.forbes.com/sites/dianaspehar/2025/01/09/ai-governance-in-2025--expert-predictions-on-ethics-tech-and-law/'}, {'question': 'What new technology is coming out in 2025?', 'snippet': 'Autonomous intelligent systems, capable of learning and adapting to new situations, are becoming more prevalent and valuable across various industries. 70% of executives and 85% of investors (venture capital, private equity, and commercial banks) pick AI agents as a top three impactful technology for 2025.\\n2 hours ago', 'title': 'Top Tech Trends of 2025: AI-powered everything - Capgemini', 'link': 'https://www.capgemini.com/insights/research-library/top-tech-trends-2025/'}, {'question': 'What is the AI market forecast for 2025?', 'snippet': 'Artificial Intelligence - Worldwide The market size in the Artificial Intelligence market is projected to reach US$243.70bn in 2025. The market size is expected to show an annual growth rate (CAGR 2025-2030) of 27.67%, resulting in a market volume of US$826.70bn by 2030.', 'title': 'Artificial Intelligence - Global | Statista Market Forecast', 'link': 'https://www.statista.com/outlook/tmo/artificial-intelligence/worldwide'}, {'question': 'What is the future trend of AI?', 'snippet': \"Here's what we think: There will be (and in some cases, already are) generative AI bots that will do people's bidding on specific content creation tasks. It will require more than one of these agentic AI tools to do something significant, such as make a travel reservation or conduct a banking transaction.\\na day ago\", 'title': 'Five Trends in AI and Data Science for 2025', 'link': 'https://sloanreview.mit.edu/article/five-trends-in-ai-and-data-science-for-2025/'}], 'relatedSearches': [{'query': '2025 ai technology trends companies'}, {'query': 'Business trends in 2025'}], 'credits': 1}\u001b[00m\n"
          ]
        },
        {
          "output_type": "stream",
          "name": "stderr",
          "text": [
            "Inserting batches in chromadb: 100%|██████████| 1/1 [00:00<00:00,  2.44it/s]\n"
          ]
        },
        {
          "output_type": "stream",
          "name": "stdout",
          "text": [
            "\n",
            "\n",
            "\u001b[1m\u001b[95m# Agent:\u001b[00m \u001b[1m\u001b[92m테크 트렌드 연구원\u001b[00m\n",
            "\u001b[95m## Using tool:\u001b[00m \u001b[92mSearch in a specific website\u001b[00m\n",
            "\u001b[95m## Tool Input:\u001b[00m \u001b[92m\n",
            "\"{\\\"search_query\\\": \\\"AI trends 2025\\\", \\\"website\\\": \\\"https://www.capgemini.com/insights/research-library/top-tech-trends-2025/\\\"}\"\u001b[00m\n",
            "\u001b[95m## Tool Output:\u001b[00m \u001b[92m\n",
            "Relevant Content:\n",
            "organizations and provides a comprehensive look at innovation and technology priorities through the eyes of business decision-makers. An introduction by Pascal BrierGroup Chief Innovation Officer Why Read Top Tech Trends of 2025? This report aims to provide business decision-makers with the insights needed to understand and assess the inflection points of technology, and their future impact. By exploring these tech trends of 2025, we offer a roadmap for navigating the complexities of the digital age and staying ahead in a competitive market. In this report, we explore: What are the emerging technologies that will see an inflection point in 2025? How will these technologies influence business strategies and operations for different industries? How can organizations leverage these trends to drive innovation and growth for the next decade? Explore Top Tech Trends of 2025: AI-powered Everything for an authoritative perspective on the technology trends that matter most to CEOs and C-Suite business decision-makers. Download the full report to learn more. What are the Top Tech Trends of 2025? Generative AI: From copilots to reasoning AI agentsAutonomous intelligent systems, capable of learning and adapting to new situations, are becoming more prevalent and valuable across various industries. 70% of executives and 85% of investors (venture capital, private equity, and commercial banks) pick AI agents as a top three impactful technology for 2025. AI & Gen AI in cybersecurity: New defenses, new threatsAI is transforming cybersecurity as well as cyber threats. Industry executives in our survey ranked AI and Gen AI in cybersecurity as the topmost trend out of more than 60 trends for 2025. AI-driven robotics: Blurring the line between human and machineIndustries are using collaborative robots – or cobots – and AI-driven robotics to enhance productivity and safety. As robots become more autonomous and AI takes on complex decision-making roles, the traditional structure of\n",
            "\n",
            "Top Tech Trends of 2025 | Capgemini Skip to Content Investors Contact us Global | EN Change Select your location Close Global | EN Worldwide Global | EN Americas Argentina | ES Brazil | PT Canada | EN Canada | FR Colombia | ES Guatemala | EN Mexico | ES United States | EN Asia Pacific Australia | EN China | ZH India | EN Japan | JP New Zealand | EN Singapore | EN Europe & Middle East Austria | EN Belgium | EN Czech Republic | EN Denmark | EN Egypt | EN Finland | EN France | FR Germany | DE Hungary | EN Italy | IT Netherlands | NL Norway | NO Poland | PL Portugal | EN Romania | EN KSA | EN Spain | ES Sweden | EN Switzerland | EN UAE | EN UK | EN Select your location Close Global | EN Worldwide Global | EN Americas Argentina | ES Brazil | PT Canada | EN Canada | FR Colombia | ES Guatemala | EN Mexico | ES United States | EN Asia Pacific Australia | EN China | ZH India | EN Japan | JP New Zealand | EN Singapore | EN Europe & Middle East Austria | EN Belgium | EN Czech Republic | EN Denmark | EN Egypt | EN Finland | EN France | FR Germany | DE Hungary | EN Italy | IT Netherlands | NL Norway | NO Poland | PL Portugal | EN Romania | EN KSA | EN Spain | ES Sweden | EN Switzerland | EN UAE | EN UK | EN Search Search Close X Most searched: Generative AI Cloud Management team Job offers Show all results HomeInsightsReshape our future with generative AILeading sustainabilityThe future of technologyMarketing for customer experienceInitiatives and research with the World Economic ForumOur research libraryExpert perspectivesOur research libraryTop tech trends 2025 “In 2025, we see AI and Gen AI having a major impact on companies’ priorities and also on many adjacent technology domains, such as robotics, supply chains, or tomorrow’s energy mix.” In today’s fast-paced business environment, understanding emerging technologies is essential for future planning. Our Top Tech Trends of 2025: AI-powered Everything report explores five critical technology trends and their implications for\n",
            "\n",
            "The Top Artificial Intelligence Trends | IBM The most important AI trends in 2024 Tags Artificial Intelligence 9 February 2024 12 min read Link copied 2022 was the year that generative artificial intelligence (AI) exploded into the public consciousness, and 2023 was the year it began to take root in the business world. 2024 thus stands to be a pivotal year for the future of AI, as researchers and enterprises seek to establish how this evolutionary leap in technology can be most practically integrated into our everyday lives. The evolution of generative AI has mirrored that of computers, albeit on a dramatically accelerated timeline. Massive, centrally operated mainframe computers from a few players gave way to smaller, more efficient machines accessible to enterprises and research institutions. In the decades that followed, incremental advances yielded home computers that hobbyists could tinker with. In time, powerful personal computers with intuitive no-code interfaces became ubiquitous. Generative AI has already reached its “hobbyist” phase—and as with computers, further progress aims to attain greater performance in smaller packages. 2023 saw an explosion of increasingly efficient foundation models with open licenses, beginning with the launch of Meta’s LlaMa family of large language models (LLMs) and followed by the likes of StableLM, Falcon, Mistral, and Llama 2. DeepFloyd and Stable Diffusion have achieved relative parity with leading proprietary models. Enhanced with fine-tuning techniques and datasets developed by the open source community, many open models can now outperform all but the most powerful closed-source models on most benchmarks, despite far smaller parameter counts. As the pace of progress accelerates, the ever-expanding capabilities of state-of-the-art models will garner the most media attention. But the most impactful developments may be those focused on governance, middleware, training techniques and data pipelines that make generative AI\u001b[00m\n",
            "\n",
            "\n",
            "\u001b[1m\u001b[95m# Agent:\u001b[00m \u001b[1m\u001b[92m테크 트렌드 연구원\u001b[00m\n",
            "\u001b[95m## Final Answer:\u001b[00m \u001b[92m\n",
            "2025년 인공지능(AI) 업계의 최신 기술 동향은 다음과 같은 세 가지 주요 트렌드로 요약될 수 있습니다:\n",
            "\n",
            "1. **생성적 AI(Generative AI)**:\n",
            "   생성적 AI는 2025년의 핵심 기술로 자리잡고 있습니다. 이는 사용자가 요청하는 콘텐츠를 자동으로 생성하는 AI 시스템을 말합니다. 기업들은 이러한 기술을 통해 고객 맞춤형 콘텐츠를 제공하고, 창의적인 작업을 지원하게 됩니다. 특히, 기업의 마케팅 및 제품 개발 과정에서 생성적 AI의 활용이 증가하고 있으며, 이는 고객 경험을 획기적으로 개선하는 데 기여하고 있습니다. 생성적 AI는 단순히 콘텐츠를 생성하는 것을 넘어, 고객의 요구를 예측하고 반응하는 데 있어서도 중요한 역할을 할 것으로 기대됩니다.\n",
            "\n",
            "2. **대리인 AI(Agentic AI)**:\n",
            "   대리인 AI는 사용자 정의 목표에 따라 자율적으로 계획하고 작업을 실행할 수 있는 AI 시스템을 의미합니다. 이는 AI가 단순한 도구에서 벗어나, 독립적인 의사결정을 내릴 수 있는 존재로 발전하는 것을 의미합니다. 이러한 변화는 비즈니스의 효율성을 크게 향상시킬 수 있으며, AI가 복잡한 작업을 스스로 처리할 수 있게 되면서 기업의 운영 방식도 혁신적으로 변화할 것입니다. 대리인 AI의 발전은 새로운 관리 및 규제 도전 과제를 동반하지만, 이는 AI의 잠재력을 극대화할 수 있는 기회로 작용할 것입니다.\n",
            "\n",
            "3. **AI와 사이버 보안의 융합**:\n",
            "   2025년에는 AI가 사이버 보안 분야에서도 중요한 변화를 가져올 것입니다. AI는 사이버 공격을 탐지하고 방어하는 데 있어 필수적인 도구로 자리잡고 있으며, 새로운 사이버 위협에 대응하기 위한 AI 기반의 솔루션들이 증가하고 있습니다. 이는 기업들이 사이버 보안에 대한 접근 방식을 혁신적으로 변화시키고, 더 나아가 AI의 안전성을 높이는 데 기여할 것입니다. AI와 사이버 보안의 융합은 비즈니스의 신뢰성과 안정성을 높이는 중요한 요소가 될 것입니다.\n",
            "\n",
            "이러한 세 가지 트렌드는 2025년 AI 업계의 발전 방향을 제시하며, 기업들이 기술을 활용하여 경쟁력을 유지하고 고객의 요구에 부응할 수 있는 기반을 마련하는 데 있어 큰 중요성을 지닙니다. AI 기술의 발전은 단순한 도구의 발전을 넘어, 기업의 전략적 접근 방식과 운영 모델을 혁신하는 데 필수적인 요소로 자리잡고 있습니다.\u001b[00m\n",
            "\n",
            "\n",
            "\u001b[1m\u001b[95m# Agent:\u001b[00m \u001b[1m\u001b[92m뉴스레터 작성자\u001b[00m\n",
            "\u001b[95m## Task:\u001b[00m \u001b[92m테크 트렌드 연구원의 요약을 바탕으로 AI 산업에 대한 매력적인 테크 뉴스레터를 작성하세요.\n",
            "    테크 뉴스레터이므로 전문적인 용어를 사요해도 괜찮습니다.\u001b[00m\n",
            "\n",
            "\n",
            "\u001b[1m\u001b[95m# Agent:\u001b[00m \u001b[1m\u001b[92m뉴스레터 작성자\u001b[00m\n",
            "\u001b[95m## Final Answer:\u001b[00m \u001b[92m\n",
            "# AI 기술 뉴스레터 - 2025년의 혁신을 만나다!\n",
            "\n",
            "안녕하세요, 기술의 열정을 가진 여러분! 오늘은 2025년 AI 산업의 최신 트렌드를 재미있게 소개해드릴게요. 요즘 인공지능은 단순한 도구에서 벗어나, 우리의 생활을 혁신적으로 변화시키고 있습니다. 그럼, 어떤 멋진 변화가 우리를 기다리고 있는지 함께 살펴볼까요?\n",
            "\n",
            "## 1. 생성적 AI, 콘텐츠의 마법사!\n",
            "\n",
            "2025년의 핵심 기술 중 하나인 생성적 AI는 마치 마법사처럼 원하는 콘텐츠를 자동으로 만들어내고 있습니다. 기업들은 이 기술을 통해 고객의 니즈에 맞춘 맞춤형 콘텐츠를 제공하고, 창의적인 작업을 지원하는 데 큰 도움이 되고 있죠. 특히 마케팅과 제품 개발에서 생성적 AI의 활용이 폭발적으로 늘어나고 있으며, 고객 경험을 한층 더 풍부하게 만들어주고 있습니다. 이제 기업들이 고객의 요구를 예측하고 즉각 반응하는 시대가 열린 것입니다!\n",
            "\n",
            "## 2. 대리인 AI, 자율적 혁신의 시대\n",
            "\n",
            "대리인 AI는 이제 단순한 도구가 아닌, 독립적으로 의사결정을 내릴 수 있는 존재로 발전하고 있습니다. 이 AI는 사용자 정의 목표에 따라 자율적으로 계획하고 작업을 실행할 수 있어, 비즈니스의 효율성을 크게 향상시킵니다. 대리인 AI의 등장은 기업 운영 방식을 혁신적으로 변화시키고 있으며, 새로운 관리 및 규제 도전 과제를 동반하기도 하지만, 이는 AI의 잠재력을 극대화할 수 있는 기회로 작용하고 있습니다. 과연 어떤 혁신이 우리를 기다리고 있을까요?\n",
            "\n",
            "## 3. AI와 사이버 보안, 안전의 동반자\n",
            "\n",
            "2025년에는 AI가 사이버 보안 분야에서도 큰 변화를 이끌고 있습니다. 사이버 공격을 탐지하고 방어하는 데 있어 AI는 필수적인 도구로 자리잡고 있으며, 새로운 사이버 위협에 대응하기 위한 AI 기반의 솔루션들이 급증하고 있습니다. 이는 기업들이 사이버 보안에 대한 접근 방식을 혁신적으로 변화시키고, AI의 안전성을 높이는 데 기여하고 있습니다. AI와 사이버 보안의 융합은 비즈니스의 신뢰성과 안정성을 높이는 중요한 요소가 되고 있죠. \n",
            "\n",
            "이러한 세 가지 트렌드는 2025년 AI 업계의 발전 방향을 제시하며, 기업들이 기술을 활용하여 경쟁력을 유지하고 고객의 요구에 부응할 수 있는 기반을 마련하는 데 큰 중요성을 지닙니다. 앞으로의 AI 기술 발전이 어떻게 우리의 삶과 산업을 변화시킬지 기대가 됩니다! 여러분도 함께 이 혁신의 여정을 즐겨보세요!\u001b[00m\n",
            "\n",
            "\n"
          ]
        }
      ]
    },
    {
      "cell_type": "code",
      "source": [
        "from IPython.display import display, Markdown\n",
        "display(Markdown(result.raw))"
      ],
      "metadata": {
        "colab": {
          "base_uri": "https://localhost:8080/",
          "height": 463
        },
        "id": "YoOsUHbYRO3D",
        "outputId": "0557fddc-3c64-46ba-ab08-bf9c25661bec"
      },
      "execution_count": 13,
      "outputs": [
        {
          "output_type": "display_data",
          "data": {
            "text/plain": [
              "<IPython.core.display.Markdown object>"
            ],
            "text/markdown": "# AI 기술 뉴스레터 - 2025년의 혁신을 만나다!\n\n안녕하세요, 기술의 열정을 가진 여러분! 오늘은 2025년 AI 산업의 최신 트렌드를 재미있게 소개해드릴게요. 요즘 인공지능은 단순한 도구에서 벗어나, 우리의 생활을 혁신적으로 변화시키고 있습니다. 그럼, 어떤 멋진 변화가 우리를 기다리고 있는지 함께 살펴볼까요?\n\n## 1. 생성적 AI, 콘텐츠의 마법사!\n\n2025년의 핵심 기술 중 하나인 생성적 AI는 마치 마법사처럼 원하는 콘텐츠를 자동으로 만들어내고 있습니다. 기업들은 이 기술을 통해 고객의 니즈에 맞춘 맞춤형 콘텐츠를 제공하고, 창의적인 작업을 지원하는 데 큰 도움이 되고 있죠. 특히 마케팅과 제품 개발에서 생성적 AI의 활용이 폭발적으로 늘어나고 있으며, 고객 경험을 한층 더 풍부하게 만들어주고 있습니다. 이제 기업들이 고객의 요구를 예측하고 즉각 반응하는 시대가 열린 것입니다!\n\n## 2. 대리인 AI, 자율적 혁신의 시대\n\n대리인 AI는 이제 단순한 도구가 아닌, 독립적으로 의사결정을 내릴 수 있는 존재로 발전하고 있습니다. 이 AI는 사용자 정의 목표에 따라 자율적으로 계획하고 작업을 실행할 수 있어, 비즈니스의 효율성을 크게 향상시킵니다. 대리인 AI의 등장은 기업 운영 방식을 혁신적으로 변화시키고 있으며, 새로운 관리 및 규제 도전 과제를 동반하기도 하지만, 이는 AI의 잠재력을 극대화할 수 있는 기회로 작용하고 있습니다. 과연 어떤 혁신이 우리를 기다리고 있을까요?\n\n## 3. AI와 사이버 보안, 안전의 동반자\n\n2025년에는 AI가 사이버 보안 분야에서도 큰 변화를 이끌고 있습니다. 사이버 공격을 탐지하고 방어하는 데 있어 AI는 필수적인 도구로 자리잡고 있으며, 새로운 사이버 위협에 대응하기 위한 AI 기반의 솔루션들이 급증하고 있습니다. 이는 기업들이 사이버 보안에 대한 접근 방식을 혁신적으로 변화시키고, AI의 안전성을 높이는 데 기여하고 있습니다. AI와 사이버 보안의 융합은 비즈니스의 신뢰성과 안정성을 높이는 중요한 요소가 되고 있죠. \n\n이러한 세 가지 트렌드는 2025년 AI 업계의 발전 방향을 제시하며, 기업들이 기술을 활용하여 경쟁력을 유지하고 고객의 요구에 부응할 수 있는 기반을 마련하는 데 큰 중요성을 지닙니다. 앞으로의 AI 기술 발전이 어떻게 우리의 삶과 산업을 변화시킬지 기대가 됩니다! 여러분도 함께 이 혁신의 여정을 즐겨보세요!"
          },
          "metadata": {}
        }
      ]
    }
  ]
}