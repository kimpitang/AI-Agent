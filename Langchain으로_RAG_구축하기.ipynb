{
  "nbformat": 4,
  "nbformat_minor": 0,
  "metadata": {
    "colab": {
      "provenance": [],
      "authorship_tag": "ABX9TyNi1AdmKR2rX05QneaFYgM0",
      "include_colab_link": true
    },
    "kernelspec": {
      "name": "python3",
      "display_name": "Python 3"
    },
    "language_info": {
      "name": "python"
    }
  },
  "cells": [
    {
      "cell_type": "markdown",
      "metadata": {
        "id": "view-in-github",
        "colab_type": "text"
      },
      "source": [
        "<a href=\"https://colab.research.google.com/github/kimpitang/AI-Agent/blob/main/Langchain%EC%9C%BC%EB%A1%9C_RAG_%EA%B5%AC%EC%B6%95%ED%95%98%EA%B8%B0.ipynb\" target=\"_parent\"><img src=\"https://colab.research.google.com/assets/colab-badge.svg\" alt=\"Open In Colab\"/></a>"
      ]
    },
    {
      "cell_type": "code",
      "execution_count": 3,
      "metadata": {
        "id": "s4pYwuwgMf39",
        "colab": {
          "base_uri": "https://localhost:8080/"
        },
        "outputId": "763cfa64-49d9-4a59-ef81-926d10478e5c"
      },
      "outputs": [
        {
          "output_type": "stream",
          "name": "stdout",
          "text": [
            "\u001b[?25l   \u001b[90m━━━━━━━━━━━━━━━━━━━━━━━━━━━━━━━━━━━━━━━━\u001b[0m \u001b[32m0.0/298.7 kB\u001b[0m \u001b[31m?\u001b[0m eta \u001b[36m-:--:--\u001b[0m\r\u001b[2K   \u001b[90m━━━━━━━━━━━━━━━━━━━━━━━━━━━━━━━━━━━━━━━━\u001b[0m \u001b[32m298.7/298.7 kB\u001b[0m \u001b[31m14.7 MB/s\u001b[0m eta \u001b[36m0:00:00\u001b[0m\n",
            "\u001b[2K   \u001b[90m━━━━━━━━━━━━━━━━━━━━━━━━━━━━━━━━━━━━━━━━\u001b[0m \u001b[32m2.5/2.5 MB\u001b[0m \u001b[31m51.2 MB/s\u001b[0m eta \u001b[36m0:00:00\u001b[0m\n",
            "\u001b[2K   \u001b[90m━━━━━━━━━━━━━━━━━━━━━━━━━━━━━━━━━━━━━━━━\u001b[0m \u001b[32m30.7/30.7 MB\u001b[0m \u001b[31m23.6 MB/s\u001b[0m eta \u001b[36m0:00:00\u001b[0m\n",
            "\u001b[2K   \u001b[90m━━━━━━━━━━━━━━━━━━━━━━━━━━━━━━━━━━━━━━━━\u001b[0m \u001b[32m54.5/54.5 kB\u001b[0m \u001b[31m3.9 MB/s\u001b[0m eta \u001b[36m0:00:00\u001b[0m\n",
            "\u001b[2K   \u001b[90m━━━━━━━━━━━━━━━━━━━━━━━━━━━━━━━━━━━━━━━━\u001b[0m \u001b[32m412.7/412.7 kB\u001b[0m \u001b[31m29.5 MB/s\u001b[0m eta \u001b[36m0:00:00\u001b[0m\n",
            "\u001b[2K   \u001b[90m━━━━━━━━━━━━━━━━━━━━━━━━━━━━━━━━━━━━━━━━\u001b[0m \u001b[32m1.2/1.2 MB\u001b[0m \u001b[31m55.2 MB/s\u001b[0m eta \u001b[36m0:00:00\u001b[0m\n",
            "\u001b[2K   \u001b[90m━━━━━━━━━━━━━━━━━━━━━━━━━━━━━━━━━━━━━━━━\u001b[0m \u001b[32m50.9/50.9 kB\u001b[0m \u001b[31m4.1 MB/s\u001b[0m eta \u001b[36m0:00:00\u001b[0m\n",
            "\u001b[?25h"
          ]
        }
      ],
      "source": [
        "#PyPDF 설치\n",
        "!pip install -q pypdf langchain langchain langchain_community faiss-cpu langchain_openai"
      ]
    },
    {
      "cell_type": "code",
      "source": [
        "import os\n",
        "import warnings\n",
        "warnings.filterwarnings('ignore')\n",
        "os.environ['OPENAI_API_KEY'] = \"\" // 개인 API 키"
      ],
      "metadata": {
        "id": "Sf2FTFwxwWJ7"
      },
      "execution_count": 4,
      "outputs": []
    },
    {
      "cell_type": "markdown",
      "source": [
        "### Document Loader로 문서 불러오기"
      ],
      "metadata": {
        "id": "lv2_ZKKswp4m"
      }
    },
    {
      "cell_type": "code",
      "source": [
        "# PyPDF Loader 불러오기\n",
        "from langchain_community.document_loaders import PyPDFLoader\n",
        "\n",
        "# PDF파일 불러올 객체 PyPDFLoader 선언\n",
        "loader = PyPDFLoader(r\"/content/Retrieval-augmented-generation-for-knowledge-intensive-nlp-tasks-Paper.pdf\")\n",
        "\n",
        "# PDF파일 로드 및 페이지별로 자르기\n",
        "pages = loader.load_and_split()"
      ],
      "metadata": {
        "colab": {
          "base_uri": "https://localhost:8080/"
        },
        "id": "UCTmMOwUwwq6",
        "outputId": "7148e5cc-f8a3-4c22-edc7-fd78d0e54c57"
      },
      "execution_count": 5,
      "outputs": [
        {
          "output_type": "stream",
          "name": "stderr",
          "text": [
            "WARNING:pypdf._reader:Ignoring wrong pointing object 31 0 (offset 0)\n",
            "WARNING:pypdf._reader:Ignoring wrong pointing object 32 0 (offset 0)\n",
            "WARNING:pypdf._reader:Ignoring wrong pointing object 89 0 (offset 0)\n"
          ]
        }
      ]
    },
    {
      "cell_type": "code",
      "source": [
        "pages[0]"
      ],
      "metadata": {
        "colab": {
          "base_uri": "https://localhost:8080/"
        },
        "id": "DEz8tHk5yY9t",
        "outputId": "7ca486ce-75d6-47cf-c7a1-22fc30dc78f7"
      },
      "execution_count": 6,
      "outputs": [
        {
          "output_type": "execute_result",
          "data": {
            "text/plain": [
              "Document(metadata={'source': '/content/Retrieval-augmented-generation-for-knowledge-intensive-nlp-tasks-Paper.pdf', 'page': 0, 'page_label': '1'}, page_content='Retrieval-Augmented Generation for\\nKnowledge-Intensive NLP Tasks\\nPatrick Lewis†‡ , Ethan Perez?,\\nAleksandra Piktus† , Fabio Petroni† , Vladimir Karpukhin† , Naman Goyal† , Heinrich Küttler† ,\\nMike Lewis† , Wen-tau Yih† , Tim Rocktäschel†‡ , Sebastian Riedel†‡ , Douwe Kiela†\\n† Facebook AI Research;‡ University College London;?New York University;\\nplewis@fb.com\\nAbstract\\nLarge pre-trained language models have been shown to store factual knowledge\\nin their parameters, and achieve state-of-the-art results when ﬁne-tuned on down-\\nstream NLP tasks. However, their ability to access and precisely manipulate\\nknowledge is still limited, and hence on knowledge-intensive tasks, their perfor-\\nmance lags behind task-speciﬁc architectures. Additionally, providing provenance\\nfor their decisions and updating their world knowledge remain open research prob-\\nlems. Pre-trained models with a differentiable access mechanism to explicit non-\\nparametric memory can overcome this issue, but have so far been only investigated\\nfor extractive downstream tasks. We explore a general-purpose ﬁne-tuning recipe\\nfor retrieval-augmented generation (RAG) — models which combine pre-trained\\nparametric and non-parametric memory for language generation. We introduce\\nRAG models where the parametric memory is a pre-trained seq2seq model and\\nthe non-parametric memory is a dense vector index of Wikipedia, accessed with\\na pre-trained neural retriever. We compare two RAG formulations, one which\\nconditions on the same retrieved passages across the whole generated sequence,\\nand another which can use different passages per token. We ﬁne-tune and evaluate\\nour models on a wide range of knowledge-intensive NLP tasks and set the state of\\nthe art on three open domain QA tasks, outperforming parametric seq2seq models\\nand task-speciﬁc retrieve-and-extract architectures. For language generation tasks,\\nwe ﬁnd that RAG models generate more speciﬁc, diverse and factual language than\\na state-of-the-art parametric-only seq2seq baseline.\\n1 Introduction\\nPre-trained neural language models have been shown to learn a substantial amount of in-depth knowl-\\nedge from data [47]. They can do so without any access to an external memory, as a parameterized\\nimplicit knowledge base [51, 52]. While this development is exciting, such models do have down-\\nsides: They cannot easily expand or revise their memory, can’t straightforwardly provide insight into\\ntheir predictions, and may produce “hallucinations” [38]. Hybrid models that combine parametric\\nmemory with non-parametric (i.e., retrieval-based) memories [20, 26, 48] can address some of these\\nissues because knowledge can be directly revised and expanded, and accessed knowledge can be\\ninspected and interpreted. REALM [20] and ORQA [31], two recently introduced models that\\ncombine masked language models [8] with a differentiable retriever, have shown promising results,\\n34th Conference on Neural Information Processing Systems (NeurIPS 2020), Vancouver, Canada.')"
            ]
          },
          "metadata": {},
          "execution_count": 6
        }
      ]
    },
    {
      "cell_type": "code",
      "source": [
        "[(i.page_content[:100], i.metadata) for i in pages]"
      ],
      "metadata": {
        "colab": {
          "base_uri": "https://localhost:8080/"
        },
        "id": "68Tak6yLy3tJ",
        "outputId": "b67c737d-9253-4fba-b794-ac94a8c3f302"
      },
      "execution_count": 7,
      "outputs": [
        {
          "output_type": "execute_result",
          "data": {
            "text/plain": [
              "[('Retrieval-Augmented Generation for\\nKnowledge-Intensive NLP Tasks\\nPatrick Lewis†‡ , Ethan Perez?,\\nAle',\n",
              "  {'source': '/content/Retrieval-augmented-generation-for-knowledge-intensive-nlp-tasks-Paper.pdf',\n",
              "   'page': 0,\n",
              "   'page_label': '1'}),\n",
              " ('The\\x03DiYineComed\\\\\\x03(x) T\\nQXeU\\\\EQcRdeU\\nT([)\\nMIPS pθ\\nGeneUaWoU¬Sѡ(PaUaPeWULc)\\nMaUgin-ali]eThiV\\x0314Wh\\x03cenW',\n",
              "  {'source': '/content/Retrieval-augmented-generation-for-knowledge-intensive-nlp-tasks-Paper.pdf',\n",
              "   'page': 1,\n",
              "   'page_label': '2'}),\n",
              " ('2 Methods\\nWe explore RAG models, which use the input sequencex to retrieve text documentsz and use t',\n",
              "  {'source': '/content/Retrieval-augmented-generation-for-knowledge-intensive-nlp-tasks-Paper.pdf',\n",
              "   'page': 1,\n",
              "   'page_label': '2'}),\n",
              " ('by ✓ that generates a current token based on a context of the previousi \\x00 1 tokens y1:i\\x001, the origi',\n",
              "  {'source': '/content/Retrieval-augmented-generation-for-knowledge-intensive-nlp-tasks-Paper.pdf',\n",
              "   'page': 2,\n",
              "   'page_label': '3'}),\n",
              " ('minimize the negative marginal log-likelihood of each target,P\\nj \\x00log p(yj|xj) using stochastic\\ngrad',\n",
              "  {'source': '/content/Retrieval-augmented-generation-for-knowledge-intensive-nlp-tasks-Paper.pdf',\n",
              "   'page': 3,\n",
              "   'page_label': '4'}),\n",
              " ('RAG models can go beyond simple extractive QA and answer questions with free-form, abstractive\\ntext ',\n",
              "  {'source': '/content/Retrieval-augmented-generation-for-knowledge-intensive-nlp-tasks-Paper.pdf',\n",
              "   'page': 3,\n",
              "   'page_label': '4'}),\n",
              " ('MSMARCO as an open-domain abstractive QA task. MSMARCO has some questions that cannot be\\nanswered in',\n",
              "  {'source': '/content/Retrieval-augmented-generation-for-knowledge-intensive-nlp-tasks-Paper.pdf',\n",
              "   'page': 4,\n",
              "   'page_label': '5'}),\n",
              " ('retriever is initialized using DPR’s retriever, which uses retrieval supervision on Natural Question',\n",
              "  {'source': '/content/Retrieval-augmented-generation-for-knowledge-intensive-nlp-tasks-Paper.pdf',\n",
              "   'page': 4,\n",
              "   'page_label': '5'}),\n",
              " ('Table 1: Open-Domain QA Test Scores. For TQA,\\nleft column uses the standard test set for Open-\\nDomai',\n",
              "  {'source': '/content/Retrieval-augmented-generation-for-knowledge-intensive-nlp-tasks-Paper.pdf',\n",
              "   'page': 5,\n",
              "   'page_label': '6'}),\n",
              " ('to guide the generation, drawing out speciﬁc knowledge stored in the parametric memory.\\n4.4 Fact Ver',\n",
              "  {'source': '/content/Retrieval-augmented-generation-for-knowledge-intensive-nlp-tasks-Paper.pdf',\n",
              "   'page': 5,\n",
              "   'page_label': '6'}),\n",
              " ('Document 1: his works are considered classics of Americanliterature ... His wartime experiences form',\n",
              "  {'source': '/content/Retrieval-augmented-generation-for-knowledge-intensive-nlp-tasks-Paper.pdf',\n",
              "   'page': 6,\n",
              "   'page_label': '7'}),\n",
              " ('results on all other tasks, especially for Open-Domain QA, where it is crucial.\\nIndex hot-swapping A',\n",
              "  {'source': '/content/Retrieval-augmented-generation-for-knowledge-intensive-nlp-tasks-Paper.pdf',\n",
              "   'page': 6,\n",
              "   'page_label': '7'}),\n",
              " ('Table 4: Human assessments for the Jeopardy\\nQuestion Generation Task.\\nFactuality Speciﬁcity\\nBART bet',\n",
              "  {'source': '/content/Retrieval-augmented-generation-for-knowledge-intensive-nlp-tasks-Paper.pdf',\n",
              "   'page': 7,\n",
              "   'page_label': '8'}),\n",
              " ('General-Purpose Architectures for NLPPrior work on general-purpose architectures for NLP\\ntasks has s',\n",
              "  {'source': '/content/Retrieval-augmented-generation-for-knowledge-intensive-nlp-tasks-Paper.pdf',\n",
              "   'page': 8,\n",
              "   'page_label': '9'}),\n",
              " ('Broader Impact\\nThis work offers several positive societal beneﬁts over previous work: the fact that ',\n",
              "  {'source': '/content/Retrieval-augmented-generation-for-knowledge-intensive-nlp-tasks-Paper.pdf',\n",
              "   'page': 9,\n",
              "   'page_label': '10'}),\n",
              " ('55th Annual Meeting of the Association for Computational Linguistics (Volume 1: Long Papers),\\npages ',\n",
              "  {'source': '/content/Retrieval-augmented-generation-for-knowledge-intensive-nlp-tasks-Paper.pdf',\n",
              "   'page': 10,\n",
              "   'page_label': '11'}),\n",
              " ('[19] Kelvin Guu, Tatsunori B. Hashimoto, Yonatan Oren, and Percy Liang. Generating sentences by\\nedit',\n",
              "  {'source': '/content/Retrieval-augmented-generation-for-knowledge-intensive-nlp-tasks-Paper.pdf',\n",
              "   'page': 11,\n",
              "   'page_label': '12'}),\n",
              " ('A. Beygelzimer, F. d’ Alché-Buc, E. Fox, and R. Garnett, editors,Advances in Neural In-\\nformation Pr',\n",
              "  {'source': '/content/Retrieval-augmented-generation-for-knowledge-intensive-nlp-tasks-Paper.pdf',\n",
              "   'page': 11,\n",
              "   'page_label': '12'}),\n",
              " ('[31] Kenton Lee, Ming-Wei Chang, and Kristina Toutanova. Latent retrieval for weakly supervised\\nopen',\n",
              "  {'source': '/content/Retrieval-augmented-generation-for-knowledge-intensive-nlp-tasks-Paper.pdf',\n",
              "   'page': 12,\n",
              "   'page_label': '13'}),\n",
              " ('[43] Tri Nguyen, Mir Rosenberg, Xia Song, Jianfeng Gao, Saurabh Tiwary, Rangan Majumder,\\nand Li Deng',\n",
              "  {'source': '/content/Retrieval-augmented-generation-for-knowledge-intensive-nlp-tasks-Paper.pdf',\n",
              "   'page': 13,\n",
              "   'page_label': '14'}),\n",
              " ('[55] Sainbayar Sukhbaatar, Arthur Szlam, Jason Weston, and Rob Fergus. End-to-end memory net-\\nworks.',\n",
              "  {'source': '/content/Retrieval-augmented-generation-for-knowledge-intensive-nlp-tasks-Paper.pdf',\n",
              "   'page': 14,\n",
              "   'page_label': '15'}),\n",
              " ('and Yann LeCun, editors,3rd International Conference on Learning Representations, ICLR\\n2015, San Die',\n",
              "  {'source': '/content/Retrieval-augmented-generation-for-knowledge-intensive-nlp-tasks-Paper.pdf',\n",
              "   'page': 14,\n",
              "   'page_label': '15'}),\n",
              " ('International Workshop on Search-Oriented Conversational AI, pages 87–92, Brussels, Belgium,\\nOctober',\n",
              "  {'source': '/content/Retrieval-augmented-generation-for-knowledge-intensive-nlp-tasks-Paper.pdf',\n",
              "   'page': 15,\n",
              "   'page_label': '16'})]"
            ]
          },
          "metadata": {},
          "execution_count": 7
        }
      ]
    },
    {
      "cell_type": "code",
      "source": [
        "from langchain_community.document_loaders import WebBaseLoader\n",
        "# 텍스트 추출할 URL 입력\n",
        "loader = WebBaseLoader(\"https://www.espn.com/\")\n",
        "# ssl verification 에러 방지를 위한 코드\n",
        "loader.requests_kwargs = {'verify':False}\n",
        "data = loader.load()\n",
        "data"
      ],
      "metadata": {
        "colab": {
          "base_uri": "https://localhost:8080/"
        },
        "id": "JX3x3647y4Cu",
        "outputId": "b68eaa71-49d3-4ee5-d6a7-13a312abd21e"
      },
      "execution_count": 9,
      "outputs": [
        {
          "output_type": "execute_result",
          "data": {
            "text/plain": [
              "[Document(metadata={'source': 'https://www.espn.com/', 'title': 'ESPN - Serving Sports Fans. Anytime. Anywhere.', 'description': 'Visit ESPN for live scores, highlights and sports news. Stream exclusive games on ESPN+ and play fantasy sports.', 'language': 'en'}, page_content=\"\\n\\n\\n\\n\\n\\n\\n\\n\\nESPN - Serving Sports Fans. Anytime. Anywhere.\\n\\n\\n\\n\\n\\n\\n\\n\\n\\n\\n\\n\\n\\n\\n\\n\\n\\n\\n\\n\\n\\n\\n\\n\\n\\n\\n\\n\\n\\n\\n\\n\\n\\n\\n\\n\\n\\n\\n\\n\\n\\n\\n\\n\\n\\n\\n\\n\\n\\n\\n\\n\\n\\n\\n\\n\\n\\n\\n\\n\\n\\n\\n\\n\\n\\n\\n\\n\\n\\n\\n\\n\\n\\n\\n\\n\\n\\n\\n\\n\\n\\n\\n\\n\\n\\n\\n\\n\\n        Skip to main content\\n    \\n\\n        Skip to navigation\\n    \\n\\n\\n\\n\\n\\n\\n\\n\\n\\n\\n\\n\\n\\n\\n\\n\\n\\n\\n\\n\\n\\n\\n\\n\\n\\n\\n\\n\\n\\n\\n\\n\\n\\n<\\n\\n>\\n\\n\\n\\n\\n\\n\\n\\n\\n\\nMenuESPN\\n\\n\\n\\n\\n\\nscores\\n\\n\\n\\nNFLNBANCAAFNHLNCAAMNCAAWSoccerMore SportsBoxingCFLNCAACricketF1GamingGolfHorseLLWSMLBMMANASCARNLLNBA G LeagueNBA Summer LeagueNWSLOlympicsPLLProfessional WrestlingRacingRN BBRN FBRugbySports BettingTennisWNBAX GamesUFLEditionsFantasyWatchESPN BETESPN+\\n\\n\\n\\n\\n\\n\\n\\n\\n\\n\\n\\n\\n\\n\\n\\n  \\n\\nSubscribe Now\\n\\n\\n\\n\\n\\nNHL\\n\\n\\n\\n\\n\\n\\n\\nNCAA Men's Basketball\\n\\n\\n\\n\\n\\n\\n\\nNCAA Women's Basketball\\n\\n\\n\\n\\n\\n\\n\\nNCAA Men's Hockey: Beanpot Semifinals\\n\\n\\n\\n\\n\\n\\n\\nUFC 312: Du Plessis vs. Strickland 2 (ESPN+ PPV)\\n\\n\\nQuick Links\\n\\n\\n\\n\\nSuper Bowl LIX\\n\\n\\n\\n\\n\\n\\n\\nNFL Playoff Bracket\\n\\n\\n\\n\\n\\n\\n\\nUnrivaled 3-on-3\\n\\n\\n\\n\\n\\n\\n\\nNBA Trade Machine\\n\\n\\n\\n\\n\\n\\n\\nMLB Free Agency\\n\\n\\n\\n\\n\\n\\n\\nWhere To Watch\\n\\n\\n\\n\\n\\n\\n\\nToday's Top Odds\\n\\n\\n\\n\\n\\n\\n\\nESPN Radio: Listen Live\\n\\n\\n\\n\\n\\n\\n\\nSuper Bowl Betting\\n\\n\\n\\n\\n\\n\\nFavorites\\n\\n\\n\\n\\n\\n\\n      Manage Favorites\\n      \\n\\n\\n\\nCustomize ESPNCreate AccountLog InFantasy\\n\\n\\n\\n\\nFootball\\n\\n\\n\\n\\n\\n\\n\\nBaseball\\n\\n\\n\\n\\n\\n\\n\\nHockey\\n\\n\\n\\n\\n\\n\\n\\nMen's Basketball\\n\\n\\n\\n\\n\\n\\n\\nWomen's Basketball\\n\\n\\nESPN Sites\\n\\n\\n\\n\\nESPN Deportes\\n\\n\\n\\n\\n\\n\\n\\nAndscape\\n\\n\\n\\n\\n\\n\\n\\nespnW\\n\\n\\n\\n\\n\\n\\n\\nESPNFC\\n\\n\\n\\n\\n\\n\\n\\nX Games\\n\\n\\n\\n\\n\\n\\n\\nSEC Network\\n\\n\\nESPN Apps\\n\\n\\n\\n\\nESPN\\n\\n\\n\\n\\n\\n\\n\\nESPN Fantasy\\n\\n\\n\\n\\n\\n\\n\\nTournament Challenge\\n\\n\\nFollow ESPN\\n\\n\\n\\n\\nFacebook\\n\\n\\n\\n\\n\\n\\n\\nX/Twitter\\n\\n\\n\\n\\n\\n\\n\\nInstagram\\n\\n\\n\\n\\n\\n\\n\\nSnapchat\\n\\n\\n\\n\\n\\n\\n\\nTikTok\\n\\n\\n\\n\\n\\n\\n\\nYouTube\\n\\n\\n'Unfathomable': How this stunning Luka Doncic-Anthony Davis trade came togetherThe most shocking trade in NBA history began with a secret meeting in a coffee shop in Dallas -- and was fueled by a 20-year history with Kobe Bryant.10hRamona Shelburne and Tim MacMahonGary A. Vasquez-USA TODAY SportsDoncic, Davis and grading all sides of the blockbuster Lakers-Mavs tradeKevin Pelton grades every side of what is perhaps the most stunning trade in league history.2dKevin PeltonWhy 'the confusion around the league is quite high' after the tradeTOP HEADLINESEagles' Moore: Focused on SB, not on Saints talkRams seeking to trade 'highly motivated' KuppSpurs tout Fox, Wemby pairing: 'Who do you stop?'Goodell: NFL 'better' because of diversity effortsMLB fires ump Hoberg for shared betting accountWild's Hartman gets 10 games for hit on St√ºtzleSources: Gambling ring also tied to college hoopsTrump hosts Panthers, lauds 'tremendous' Cup runTrade grades: Does Fox fit with Wemby?GARRETT WANTS OUT OF CLEVELANDWhich NFL teams should try to trade for Myles Garrett? Finding perfect fits for the Browns' starGarrett requested a trade, so we picked four teams that might make sense as potential landing spots for Cleveland's standout edge rusher -- if he's dealt.8hDan GrazianoJoseph Maiorana-Imagn ImagesWhy trading Garrett is not as simple as it seems for BrownsNBA SCOREBOARD\\uf8ffüìÖ Full scoreboard‚¨Ü‚¨á StandingsWHO IS ON THE MOVE?TRADE DEADLINE: THURSDAYHow much better is San Antonio now? Grading the three-way Spurs-Kings-Bulls tradeGrading the three-team deal that pairs Victor Wembanyama with a new star teammate in De'Aaron Fox. Could it also work out in the end for the Kings?1dKevin PeltonScott Wachter-USA TODAY SportsNBA trade deadline 2025: The latest buzz after two blockbuster dealsThe latest from our NBA experts on deals ahead of Thursday's trade deadline.5hESPNFantasy basketball: Fox, LaVine trade winners and losersCLUTCH MOMENTS ON THE HARDWOODStephen F. Austin wins it with heave from beyond half court in OT2h0:39Fans storm the court after Norfolk State hits game-winning shot2h0:53COLLEGE HOOPS SCORES\\uf8ffüìÖ More men's scores\\uf8ffüìÖ More women's scoresBEST OF SUPER BOWL OPENING NIGHTTravis Kelce: Taylor Swift's homemade Pop-Tarts are unbelievable23m0:36Ochocinco crashes Nick Sirianni's news conference30m0:16SOCCER TRANSFERSWINTER WINDOW IS CLOSEDTransfer window winners and losers: How PSG, Man United, Arsenal and others faredThis winter transfer window had its share of perplexing player moves. Here are our winners (i.e. PSG) and losers (i.e. Man United, Arsenal).5hJon Molyneux-CarterCourtesy of PSGMen's January transfer grades: Spurs get A for beating Man Utd, Chelsea to TelThe January transfer window has come to a close. Here is how we rate the biggest moves.5hSam Tighe‚úçÔ∏è Transfer deadline day as it happened: Man City sign Porto's GonzalezThe triumphant final days of the skaters killed in D.C. crash16hSam Borden, +2 More Top HeadlinesEagles' Moore: Focused on SB, not on Saints talkRams seeking to trade 'highly motivated' KuppSpurs tout Fox, Wemby pairing: 'Who do you stop?'Goodell: NFL 'better' because of diversity effortsMLB fires ump Hoberg for shared betting accountWild's Hartman gets 10 games for hit on St√ºtzleSources: Gambling ring also tied to college hoopsTrump hosts Panthers, lauds 'tremendous' Cup runTrade grades: Does Fox fit with Wemby?Favorites FantasyManage FavoritesFantasy HomeCustomize ESPNCreate AccountLog InICYMI0:46'Luka Garza?' KD, Booker shocked over Luka-AD tradeKevin Durant and Devin Booker are stunned to hear the Lakers and Mavericks have swapped superstars in Anthony Davis and Luka Doncic. Best of ESPN+Jerome Miron-USA TODAY SportsLeague reaction and potential fallout from the massive Luka Doncic-Anthony Davis tradeNBA execs are still coming to grips with the reality that Luka Doncic is a Laker -- and what it means for L.A., Dallas and the rest of the NBA.ESPN Illustration2025 NFL free agency: Ranking top 50 players, QBs availableBig money for Amari Cooper and Charvarius Ward? Could a team sign Justin Fields as its QB1? Here are the top 50 free agents heading into the offseason.Kevin Jairaj-Imagn ImagesMen's basketball coaches make cases for (and against) Vanderbilt, Louisville, Missouri, WisconsinThese teams have had surprising campaigns, but how much staying power do they have? We asked opposing coaches.ESPNTop 100 MLB prospects for 2025, ranked by Kiley McDanielWhere do stars of tomorrow like Roki Sasaki and Roman Anthony land as we rank baseball's best young players? Trending NowOMS Photography for ESPNEvery Super Bowl championship ring by yearThey're big and small. They've been lost while surfing in Hawaii and dancing at Studio 54. They've been found in taxis and hotel nightstands. Ahead of Super Bowl 2025, learn a unique story of one ring from every championship.Issac Baldizon/NBAE via Getty ImagesNBA trade deadline 2025: Latest deals, news, reportsThe latest from our NBA experts on deals ahead of Thursday's trade deadline.New York Yankees/Getty ImagesBetter than 2024? Why post-Juan Soto Yankees say they areThe defending American League champs had to pivot -- hard -- after losing a generational star to the crosstown Mets. Here's how they did it -- and what's next.FanaticsNHL 4 Nations Face-Off uniforms -- and what each representsThe jerseys for USA, Sweden, Finland and Canada, who will participate in the 4 Nations Face-Off, were officially released on Friday. Sign up to play the #1 Fantasy Baseball GameReactivate A LeagueCreate A LeagueJoin a Public LeaguePractice With a Mock DraftSign up for FREE!Reactivate A LeagueCreate A LeagueJoin a Public LeaguePractice With a Mock DraftESPN+ on Disney+Mike Windle/Getty Images for ESPNHow to watch ESPN+ on Disney+: Frequently asked questionsESPN+ is available on Disney+. Check out how to watch NHL, MLB, Pat McAfee, 30 for 30s and other exciting events now. Get a custom ESPN experienceEnjoy the benefits of a personalized accountSelect your favorite leagues, teams and players and get the latest scores, news and updates that matter most to you. \\n\\nESPN+\\n\\n\\n\\n\\nNHL\\n\\n\\n\\n\\n\\n\\n\\nNCAA Men's Basketball\\n\\n\\n\\n\\n\\n\\n\\nNCAA Women's Basketball\\n\\n\\n\\n\\n\\n\\n\\nNCAA Men's Hockey: Beanpot Semifinals\\n\\n\\n\\n\\n\\n\\n\\nUFC 312: Du Plessis vs. Strickland 2 (ESPN+ PPV)\\n\\n\\nQuick Links\\n\\n\\n\\n\\nSuper Bowl LIX\\n\\n\\n\\n\\n\\n\\n\\nNFL Playoff Bracket\\n\\n\\n\\n\\n\\n\\n\\nUnrivaled 3-on-3\\n\\n\\n\\n\\n\\n\\n\\nNBA Trade Machine\\n\\n\\n\\n\\n\\n\\n\\nMLB Free Agency\\n\\n\\n\\n\\n\\n\\n\\nWhere To Watch\\n\\n\\n\\n\\n\\n\\n\\nToday's Top Odds\\n\\n\\n\\n\\n\\n\\n\\nESPN Radio: Listen Live\\n\\n\\n\\n\\n\\n\\n\\nSuper Bowl Betting\\n\\n\\nFantasy\\n\\n\\n\\n\\nFootball\\n\\n\\n\\n\\n\\n\\n\\nBaseball\\n\\n\\n\\n\\n\\n\\n\\nHockey\\n\\n\\n\\n\\n\\n\\n\\nMen's Basketball\\n\\n\\n\\n\\n\\n\\n\\nWomen's Basketball\\n\\n\\nESPN Sites\\n\\n\\n\\n\\nESPN Deportes\\n\\n\\n\\n\\n\\n\\n\\nAndscape\\n\\n\\n\\n\\n\\n\\n\\nespnW\\n\\n\\n\\n\\n\\n\\n\\nESPNFC\\n\\n\\n\\n\\n\\n\\n\\nX Games\\n\\n\\n\\n\\n\\n\\n\\nSEC Network\\n\\n\\nESPN Apps\\n\\n\\n\\n\\nESPN\\n\\n\\n\\n\\n\\n\\n\\nESPN Fantasy\\n\\n\\n\\n\\n\\n\\n\\nTournament Challenge\\n\\n\\nFollow ESPN\\n\\n\\n\\n\\nFacebook\\n\\n\\n\\n\\n\\n\\n\\nX/Twitter\\n\\n\\n\\n\\n\\n\\n\\nInstagram\\n\\n\\n\\n\\n\\n\\n\\nSnapchat\\n\\n\\n\\n\\n\\n\\n\\nTikTok\\n\\n\\n\\n\\n\\n\\n\\nYouTube\\n\\n\\nGebruiksvoorwaardenPrivacybeleidGepersonaliseerde advertentiesEuropese Privacy RegelgevingCookiebeleidSupportManage Privacy Preferences¬© ESPN Enterprises, Inc. Alle rechten voorbehouden.\\n\\n\\n\\n\\n\\n\\n\\n\\n\\n\\n\\n\\n\\n\\n\\n\\n\\n\")]"
            ]
          },
          "metadata": {},
          "execution_count": 9
        }
      ]
    },
    {
      "cell_type": "code",
      "source": [
        "import bs4\n",
        "from langchain_community.document_loaders import WebBaseLoader\n",
        "# 텍스트 추출할 URL 입력\n",
        "loader = WebBaseLoader(\"https://www.espn.com/\",\n",
        "                       bs_kwargs=dict(\n",
        "                           parse_only=bs4.SoupStrainer(\n",
        "                               class_=(\"headlineStack top-headlines\")\n",
        "                           )\n",
        "                       ))\n",
        "\n",
        "# ssl verification 에러 방지를 위한 코드\n",
        "loader.requests_kwargs = {'verify':False}\n",
        "data = loader.load()\n",
        "data"
      ],
      "metadata": {
        "colab": {
          "base_uri": "https://localhost:8080/"
        },
        "id": "m5qyLZFRy4ro",
        "outputId": "5c9fc504-0c64-4e12-eeba-5b86ad23242b"
      },
      "execution_count": 10,
      "outputs": [
        {
          "output_type": "execute_result",
          "data": {
            "text/plain": [
              "[Document(metadata={'source': 'https://www.espn.com/'}, page_content=\"Eagles' Moore: Focused on SB, not on Saints talkRams seeking to trade 'highly motivated' KuppSpurs tout Fox, Wemby pairing: 'Who do you stop?'Goodell: NFL 'better' because of diversity effortsMLB fires ump Hoberg for shared betting accountWild's Hartman gets 10 games for hit on St√ºtzleSources: Gambling ring also tied to college hoopsTrump hosts Panthers, lauds 'tremendous' Cup runTrade grades: Does Fox fit with Wemby? Top HeadlinesEagles' Moore: Focused on SB, not on Saints talkRams seeking to trade 'highly motivated' KuppSpurs tout Fox, Wemby pairing: 'Who do you stop?'Goodell: NFL 'better' because of diversity effortsMLB fires ump Hoberg for shared betting accountWild's Hartman gets 10 games for hit on St√ºtzleSources: Gambling ring also tied to college hoopsTrump hosts Panthers, lauds 'tremendous' Cup runTrade grades: Does Fox fit with Wemby?\")]"
            ]
          },
          "metadata": {},
          "execution_count": 10
        }
      ]
    },
    {
      "cell_type": "markdown",
      "source": [
        "### Text Splitter로 문서 분할하기"
      ],
      "metadata": {
        "id": "gQMyarWcU2SH"
      }
    },
    {
      "cell_type": "code",
      "source": [
        "# PyPDFium2Loader로 PDF 문서 로드하기\n",
        "from langchain_community.document_loaders import PyPDFLoader\n",
        "loader = PyPDFLoader(r\"/content/LLM_agent.pdf\")\n",
        "pages = loader.load()\n",
        "\n",
        "# CharacterTextSplitter 모듈 로드\n",
        "from langchain_text_splitters import character\n",
        "\n",
        "# 구분자: 줄넘김, 청크 길이: 500, 청크 오버랩: 100, length_function: 글자수\n",
        "text_splitter = character.CharacterTextSplitter(\n",
        "    separator = \"\\n\",\n",
        "    chunk_size = 500,\n",
        "    chunk_overlap  = 100,\n",
        "    length_function = len,\n",
        ")\n",
        "\n",
        "# 텍스트 분할\n",
        "texts = text_splitter.split_documents(pages)\n",
        "print(texts[0])"
      ],
      "metadata": {
        "colab": {
          "base_uri": "https://localhost:8080/"
        },
        "id": "4YAruc54y4fx",
        "outputId": "1033e5b6-d47c-4671-e298-7c9eaf572e8b"
      },
      "execution_count": 14,
      "outputs": [
        {
          "output_type": "stream",
          "name": "stderr",
          "text": [
            "WARNING:langchain_text_splitters.base:Created a chunk of size 2091, which is longer than the specified 500\n",
            "WARNING:langchain_text_splitters.base:Created a chunk of size 1068, which is longer than the specified 500\n",
            "WARNING:langchain_text_splitters.base:Created a chunk of size 588, which is longer than the specified 500\n",
            "WARNING:langchain_text_splitters.base:Created a chunk of size 878, which is longer than the specified 500\n",
            "WARNING:langchain_text_splitters.base:Created a chunk of size 571, which is longer than the specified 500\n"
          ]
        },
        {
          "output_type": "stream",
          "name": "stdout",
          "text": [
            "page_content='Published as a conference paper at COLM 2024\n",
            "AutoGen: Enabling Next-Gen LLM Applications\n",
            "via Multi-Agent Conversations\n",
            "Qingyun Wu∗\n",
            "Penn State University\n",
            "qingyun@autogen.team\n",
            "Gagan Bansal\n",
            "Microsoft Research\n",
            "gaganbansal@microsoft.com\n",
            "Jieyu Zhang\n",
            "University of Washington\n",
            "jieyuz2@cs.washington.edu\n",
            "Yiran Wu\n",
            "Penn State University\n",
            "yiran.wu@psu.edu\n",
            "Beibin Li\n",
            "Microsoft Research\n",
            "beibin.li@microsoft.com\n",
            "Erkang Zhu\n",
            "Microsoft Research\n",
            "erkang.zhu@microsoft.com\n",
            "Li Jiang\n",
            "Microsoft\n",
            "lijiang1@microsoft.com' metadata={'source': '/content/LLM_agent.pdf', 'page': 0, 'page_label': '1'}\n"
          ]
        }
      ]
    },
    {
      "cell_type": "code",
      "source": [
        "print([len(i.page_content) for i in texts])"
      ],
      "metadata": {
        "colab": {
          "base_uri": "https://localhost:8080/"
        },
        "id": "mmFYtczNWoKM",
        "outputId": "6f4904e9-f149-4af4-f2b6-c8c6db6f9afd"
      },
      "execution_count": 15,
      "outputs": [
        {
          "output_type": "stream",
          "name": "stdout",
          "text": [
            "[492, 473, 457, 438, 496, 462, 326, 499, 455, 498, 435, 466, 447, 429, 425, 427, 475, 434, 475, 455, 451, 442, 434, 478, 492, 421, 436, 443, 465, 444, 428, 440, 473, 464, 454, 438, 449, 206, 431, 444, 446, 470, 487, 429, 412, 456, 456, 428, 420, 432, 429, 418, 454, 452, 440, 446, 449, 493, 498, 477, 455, 412, 468, 463, 438, 437, 442, 369, 477, 459, 431, 443, 453, 441, 450, 470, 445, 445, 460, 435, 301, 435, 451, 438, 440, 492, 475, 428, 434, 425, 496, 438, 447, 184, 425, 451, 446, 433, 459, 451, 493, 426, 445, 444, 446, 443, 491, 481, 480, 458, 499, 461, 448, 368, 423, 466, 457, 491, 486, 457, 438, 478, 184, 420, 496, 417, 485, 443, 483, 414, 458, 207, 442, 484, 468, 434, 490, 450, 460, 474, 255, 436, 433, 500, 437, 492, 456, 388, 453, 423, 447, 429, 452, 481, 480, 238, 417, 489, 442, 443, 422, 466, 486, 450, 479, 489, 182, 428, 477, 486, 450, 446, 442, 423, 472, 413, 464, 500, 74, 426, 426, 434, 482, 421, 420, 444, 440, 425, 486, 491, 274, 496, 467, 434, 469, 458, 448, 450, 447, 485, 406, 44, 2091, 485, 490, 474, 443, 442, 269, 500, 480, 469, 486, 493, 415, 461, 280, 459, 451, 494, 493, 481, 420, 487, 313, 496, 486, 480, 448, 453, 426, 487, 446, 427, 425, 466, 453, 446, 419, 465, 449, 454, 106, 1067, 58, 588, 430, 448, 454, 454, 462, 476, 445, 470, 467, 497, 441, 476, 450, 467, 427, 440, 435, 175, 496, 483, 475, 470, 493, 418, 439, 496, 417, 463, 476, 433, 267, 498, 446, 430, 437, 481, 487, 496, 478, 181, 455, 460, 444, 471, 485, 494, 495, 443, 444, 443, 366, 458, 492, 451, 448, 500, 451, 290, 430, 454, 442, 437, 437, 448, 448, 440, 443, 199, 413, 463, 476, 243, 450, 252, 321, 878, 119, 224, 571, 468, 452, 433, 459, 452, 434, 436, 445, 348, 493, 468, 423, 432, 489, 487, 448, 274, 471, 440, 486, 500, 497, 497, 489, 487, 429, 440, 484, 475, 371, 428, 430, 412, 451, 413, 450, 465, 437, 382, 486, 485, 438, 424, 487, 402, 486, 500, 476, 449, 500, 453, 500, 448, 489, 464, 443, 459, 425, 425, 463, 500, 461, 431, 490, 309, 467, 494, 473, 432, 439, 498, 434, 491, 499, 490, 469, 468, 498, 347, 458, 422, 483, 487, 490, 481, 479, 483, 416, 379, 498, 484, 472, 451, 475, 272, 403, 402, 439, 476, 443, 456, 477, 402, 478, 470, 498, 401, 400]\n"
          ]
        }
      ]
    },
    {
      "cell_type": "code",
      "source": [
        "# RecursiveCharacterTextSplitter는 구분자를 설정하지 않아도 chunk_size에 맞춰서 분리함\n",
        "\n",
        "from langchain_community.document_loaders import PyPDFium2Loader\n",
        "\n",
        "loader = PyPDFLoader(r\"/content/LLM_agent.pdf\")\n",
        "\n",
        "pages = loader.load()\n",
        "\n",
        "from langchain_text_splitters import RecursiveCharacterTextSplitter\n",
        "\n",
        "text_splitter = RecursiveCharacterTextSplitter (\n",
        "    chunk_size = 500,\n",
        "    chunk_overlap  = 100,\n",
        "    length_function = len,\n",
        ")\n",
        "\n",
        "texts = text_splitter.split_documents(pages)\n",
        "print([len(i.page_content) for i in texts])"
      ],
      "metadata": {
        "colab": {
          "base_uri": "https://localhost:8080/"
        },
        "id": "1KXTJfg7ZexG",
        "outputId": "520a73ae-9389-4c5f-e035-db1a0b8ecd24"
      },
      "execution_count": 17,
      "outputs": [
        {
          "output_type": "stream",
          "name": "stdout",
          "text": [
            "[492, 473, 457, 438, 496, 462, 326, 499, 455, 498, 435, 466, 447, 429, 425, 427, 475, 434, 475, 455, 451, 442, 434, 478, 492, 421, 436, 443, 465, 444, 428, 440, 473, 464, 454, 438, 449, 206, 431, 444, 446, 470, 487, 429, 412, 456, 456, 428, 420, 432, 429, 418, 454, 452, 440, 446, 449, 493, 498, 477, 455, 412, 468, 463, 438, 437, 442, 369, 477, 459, 431, 443, 453, 441, 450, 470, 445, 445, 460, 435, 301, 435, 451, 438, 440, 492, 475, 428, 434, 425, 496, 438, 447, 184, 425, 451, 446, 433, 459, 451, 493, 426, 445, 444, 446, 443, 491, 481, 480, 458, 499, 461, 448, 368, 423, 466, 457, 491, 486, 457, 438, 478, 184, 420, 496, 417, 485, 443, 483, 414, 458, 207, 442, 484, 468, 434, 490, 450, 460, 474, 255, 436, 433, 448, 488, 472, 482, 444, 241, 453, 423, 447, 429, 452, 481, 480, 238, 417, 489, 442, 443, 422, 466, 486, 450, 479, 489, 182, 428, 477, 486, 450, 446, 442, 423, 472, 413, 464, 428, 161, 426, 426, 434, 482, 421, 420, 444, 440, 425, 486, 491, 274, 496, 467, 434, 469, 458, 448, 450, 447, 485, 406, 44, 494, 491, 495, 497, 499, 102, 485, 490, 474, 443, 442, 269, 500, 480, 469, 486, 493, 415, 461, 280, 459, 451, 494, 493, 481, 420, 487, 313, 496, 486, 480, 448, 453, 426, 487, 446, 427, 425, 466, 453, 446, 419, 465, 449, 454, 106, 498, 491, 269, 58, 499, 188, 430, 448, 454, 454, 462, 476, 445, 470, 467, 497, 441, 476, 450, 467, 427, 440, 435, 175, 496, 483, 475, 470, 493, 418, 439, 496, 417, 463, 476, 433, 267, 498, 446, 430, 437, 481, 487, 496, 478, 181, 455, 460, 444, 471, 485, 494, 495, 443, 444, 443, 366, 458, 492, 451, 448, 448, 482, 139, 290, 430, 454, 442, 437, 437, 448, 448, 440, 443, 199, 413, 463, 476, 243, 450, 252, 321, 491, 485, 119, 224, 488, 181, 468, 452, 433, 459, 452, 434, 436, 445, 348, 493, 468, 423, 432, 489, 487, 448, 274, 471, 440, 486, 424, 495, 497, 489, 487, 429, 440, 484, 475, 371, 428, 430, 412, 451, 413, 450, 465, 437, 382, 486, 485, 438, 424, 487, 402, 486, 496, 476, 449, 496, 453, 497, 451, 489, 464, 443, 459, 425, 425, 463, 496, 461, 431, 490, 309, 467, 494, 473, 432, 439, 498, 434, 491, 499, 490, 469, 468, 498, 347, 458, 422, 483, 487, 490, 481, 479, 483, 416, 379, 498, 484, 472, 451, 475, 272, 403, 402, 439, 476, 443, 456, 477, 402, 478, 470, 498, 401, 400]\n"
          ]
        }
      ]
    },
    {
      "cell_type": "markdown",
      "source": [
        "### 임베딩 모델로 텍스트를 수치화하기"
      ],
      "metadata": {
        "id": "V9KU30MpbKYn"
      }
    },
    {
      "cell_type": "code",
      "source": [
        "import os\n",
        "from langchain_openai import OpenAIEmbeddings\n",
        "\n",
        "embeddings_model = OpenAIEmbeddings(model = 'text-embedding-3-small')\n",
        "embeddings = embeddings_model.embed_documents(\n",
        "    [\n",
        "        \"Hi there!\",\n",
        "        \"Oh, hello!\",\n",
        "        \"What's your name?\",\n",
        "        \"My friends call me World\",\n",
        "        \"Hello World!\"\n",
        "    ]\n",
        ")\n",
        "len(embeddings), len(embeddings[0])"
      ],
      "metadata": {
        "colab": {
          "base_uri": "https://localhost:8080/"
        },
        "id": "M43R90nMbKsE",
        "outputId": "2964632f-0aaa-450e-b926-a008b56ec5d1"
      },
      "execution_count": 18,
      "outputs": [
        {
          "output_type": "execute_result",
          "data": {
            "text/plain": [
              "(5, 1536)"
            ]
          },
          "metadata": {},
          "execution_count": 18
        }
      ]
    },
    {
      "cell_type": "code",
      "source": [
        "print(embeddings[0][:10])\n",
        "print(\"-\"*50)\n",
        "print(f\"임베딩 개수: len(embeddings) \\n 이베딩 차원: len(embeddings[0])\")"
      ],
      "metadata": {
        "colab": {
          "base_uri": "https://localhost:8080/"
        },
        "id": "k6zeLZaQch4s",
        "outputId": "c64f00fe-12b7-48d0-cab4-5b2e39ff9865"
      },
      "execution_count": 19,
      "outputs": [
        {
          "output_type": "stream",
          "name": "stdout",
          "text": [
            "[-0.019187437370419502, -0.03813096508383751, -0.031003428623080254, -0.004613928031176329, -0.03536667302250862, -0.004004158079624176, 0.012920353561639786, 0.05103099346160889, -0.005826693493872881, -0.03720953315496445]\n",
            "--------------------------------------------------\n",
            "임베딩 개수: len(embeddings) \n",
            " 이베딩 차원: len(embeddings[0])\n"
          ]
        }
      ]
    },
    {
      "cell_type": "code",
      "source": [
        "from langchain_openai import OpenAIEmbeddings\n",
        "from langchain_community.document_loaders import PyPDFLoader\n",
        "from langchain_text_splitters import RecursiveCharacterTextSplitter\n",
        "\n",
        "# 임베딩 모델 API 호출\n",
        "embeddings_model = OpenAIEmbeddings(model = 'text-embedding-3-small')\n",
        "\n",
        "# PDF 문서 로드\n",
        "loader = PyPDFLoader(r\"/content/LLM_agent.pdf\")\n",
        "pages = loader.load()\n",
        "\n",
        "# PDF 문서르 여러 청크로 분할\n",
        "text_splitter = RecursiveCharacterTextSplitter (\n",
        "    chunk_size = 500,\n",
        "    chunk_overlap  = 100\n",
        ")\n",
        "\n",
        "texts = text_splitter.split_documents(pages)\n",
        "\n",
        "# OpenAI 임베딩 모델로 청크들을 임베딩 변환하기\n",
        "embeddings = embeddings_model.embed_documents([i.page_content for i in texts])\n",
        "len(embeddings), len(embeddings[0])"
      ],
      "metadata": {
        "colab": {
          "base_uri": "https://localhost:8080/"
        },
        "id": "9b2jbDRkciTY",
        "outputId": "67daa70a-6447-4a7c-e3d7-5bb1b259f7a4"
      },
      "execution_count": 20,
      "outputs": [
        {
          "output_type": "execute_result",
          "data": {
            "text/plain": [
              "(445, 1536)"
            ]
          },
          "metadata": {},
          "execution_count": 20
        }
      ]
    },
    {
      "cell_type": "markdown",
      "source": [
        "### 벡터 스토어에 저장"
      ],
      "metadata": {
        "id": "OyrKAshTipd-"
      }
    },
    {
      "cell_type": "code",
      "source": [
        "from langchain.vectorstores import FAISS\n",
        "\n",
        "db = FAISS.from_documents(texts, embeddings_model)"
      ],
      "metadata": {
        "id": "DxkU4QHHirf1"
      },
      "execution_count": 21,
      "outputs": []
    },
    {
      "cell_type": "markdown",
      "source": [
        "### Retriever 생성"
      ],
      "metadata": {
        "id": "e79sjOCxm8tf"
      }
    },
    {
      "cell_type": "code",
      "source": [
        "retriever = db.as_retriever()\n",
        "\n",
        "query = \"autogen이 뭐야?\"\n",
        "\n",
        "# 유사 문서 검색\n",
        "retriever.invoke(query)"
      ],
      "metadata": {
        "colab": {
          "base_uri": "https://localhost:8080/"
        },
        "id": "3lZxKJHBp8fZ",
        "outputId": "8c9c14fa-b825-47dc-8e6f-d44734bac0c8"
      },
      "execution_count": 22,
      "outputs": [
        {
          "output_type": "execute_result",
          "data": {
            "text/plain": [
              "[Document(id='b9d518fe-6ada-4037-912f-69daab5ab1a3', metadata={'source': '/content/LLM_agent.pdf', 'page': 14, 'page_label': '15'}, page_content='• A repository containing the source code of AutoGen (v0.1.1) and application evaluation\\ncode is provided, along with instructions for reproducing the experiments reported in\\nthis paper: https://github.com/qingyun-wu/autogen/tree/2024-03.\\n15'),\n",
              " Document(id='e5eea139-1af7-4097-ab0a-a6b9fd0a113a', metadata={'source': '/content/LLM_agent.pdf', 'page': 19, 'page_label': '20'}, page_content='autonomous mode AutoGen supports could be desirable in many scenarios, a high level of\\nautonomy can also pose potential risks, especially in high-risk applications (Amodei et al.,\\n2016; Weld & Etzioni, 1994). As a result, building fail-safes against cascading failures and ex-\\nploitation, mitigating reward hacking, out of control and undesired behaviors, maintaining\\neffective human oversight of applications built with AutoGen agents will become important.'),\n",
              " Document(id='2cfb1f92-bf18-40b8-b2aa-55189c13f7b3', metadata={'source': '/content/LLM_agent.pdf', 'page': 0, 'page_label': '1'}, page_content='human inputs, and tools. It also enables developers to create flexible agent\\nbehaviors and conversation patterns for different applications using both\\nnatural language and code. AutoGen serves as a generic infrastructure\\nand is widely used by AI practitioners and researchers to build diverse\\napplications of various complexities and LLM capacities. We demonstrate\\nthe framework’s effectiveness with several pilot applications, on domains'),\n",
              " Document(id='ac3c1281-cb3f-49e7-9b45-5a42b04d029a', metadata={'source': '/content/LLM_agent.pdf', 'page': 17, 'page_label': '18'}, page_content='cooperation), our AutoGen-based implementation remains simple, demonstrating promising\\nopportunities to build creative applications and a large space for innovation. In reflecting\\non why these benefits can be achieved in these applications with AutoGen, we believe there\\nare a few reasons:\\n• Ease of use: The built-in agents can be used out-of-the-box, delivering strong performance\\neven without any customization. (A1, A3)')]"
            ]
          },
          "metadata": {},
          "execution_count": 22
        }
      ]
    },
    {
      "cell_type": "code",
      "source": [
        "from langchain_openai import ChatOpenAI\n",
        "from langchain import hub\n",
        "from langchain_core.output_parsers import StrOutputParser\n",
        "from langchain_core.runnables import RunnablePassthrough\n",
        "\n",
        "model = ChatOpenAI(model = 'gpt-4o-mini')\n",
        "prompt = hub.pull(\"rlm/rag-prompt\")\n",
        "\n",
        "def format_docs(docs):\n",
        "  return \"\\n\\n\".join(doc.page_content for doc in docs)\n",
        "\n",
        "rag_chain = (\n",
        "    {\"context\": retriever | format_docs, \"question\": RunnablePassthrough()}\n",
        "    | prompt\n",
        "    | model\n",
        "    | StrOutputParser()\n",
        ")\n",
        "\n",
        "rag_chain.invoke(\"autogent이 뭐야?\")"
      ],
      "metadata": {
        "colab": {
          "base_uri": "https://localhost:8080/",
          "height": 54
        },
        "id": "JQYQ1oyQrm7O",
        "outputId": "6867f071-1520-4e18-9335-e3bc8c646029"
      },
      "execution_count": 24,
      "outputs": [
        {
          "output_type": "execute_result",
          "data": {
            "text/plain": [
              "'AutoGen refers to a system that allows for autonomous interaction between AI agents and humans to solve problems collaboratively. It supports workflows where human oversight can either be integrated or optional, ensuring effective problem-solving. The system emphasizes the need for fail-safes in high-risk applications to avoid potential issues arising from high levels of autonomy.'"
            ],
            "application/vnd.google.colaboratory.intrinsic+json": {
              "type": "string"
            }
          },
          "metadata": {},
          "execution_count": 24
        }
      ]
    }
  ]
}